{
 "cells": [
  {
   "cell_type": "markdown",
   "metadata": {},
   "source": [
    "## 구글 뉴스 크롤링\n",
    "24.04.05"
   ]
  },
  {
   "cell_type": "code",
   "execution_count": 2,
   "metadata": {},
   "outputs": [],
   "source": [
    "from selenium import webdriver\n",
    "from selenium.webdriver.common.by import By"
   ]
  },
  {
   "cell_type": "code",
   "execution_count": 85,
   "metadata": {},
   "outputs": [],
   "source": [
    "# 크롬 브라우저 열기\n",
    "browser = webdriver.Chrome()"
   ]
  },
  {
   "cell_type": "code",
   "execution_count": 87,
   "metadata": {},
   "outputs": [],
   "source": [
    "# 인공지능 블록체인 융합 <- 키워드 검색 후 뉴스 탭\n",
    "url = 'https://www.google.com/search?q=%EC%9D%B8%EA%B3%B5%EC%A7%80%EB%8A%A5+%EB%B8%94%EB%A1%9D%EC%B2%B4%EC%9D%B8+%EC%9C%B5%ED%95%A9&newwindow=1&sca_esv=30c375223fbe6df1&rlz=1C5CHFA_enKR1049KR1104&biw=1512&bih=774&tbm=nws&sxsrf=ACQVn0_8195fGFXwYPEbj6ca1cU-bG4_zQ%3A1712280316439&ei=_FIPZty7Gty3vr0Ps9mMuA0&ved=0ahUKEwjcqZGg9amFAxXcm68BHbMsA9cQ4dUDCA0&uact=5&oq=%EC%9D%B8%EA%B3%B5%EC%A7%80%EB%8A%A5+%EB%B8%94%EB%A1%9D%EC%B2%B4%EC%9D%B8+%EC%9C%B5%ED%95%A9&gs_lp=Egxnd3Mtd2l6LW5ld3MiIOyduOqzteyngOuKpSDruJTroZ3ssrTsnbgg7Jy17ZWpMgUQABiABEiJCVDXBFjhBnAAeACQAQCYAZUBoAHlA6oBAzAuNLgBA8gBAPgBAZgCA6AC7wLCAggQABiABBiiBMICBBAAGB6YAwCIBgGSBwMwLjOgB4IJ&sclient=gws-wiz-news'\n",
    "# url로 이동\n",
    "browser.get(url)"
   ]
  },
  {
   "cell_type": "code",
   "execution_count": 88,
   "metadata": {},
   "outputs": [
    {
     "data": {
      "text/plain": [
       "<selenium.webdriver.remote.webelement.WebElement (session=\"990e110bb1b55c40a092d84164753905\", element=\"7CEF00E51358BDD0C5B8D98C21FED8C3_element_1\")>"
      ]
     },
     "execution_count": 88,
     "metadata": {},
     "output_type": "execute_result"
    }
   ],
   "source": [
    "# 뉴스 제목 class=\"n0jPhd ynAwRc MBeuO nDgy9d\"\n",
    "## class명 중 스페이스가 들어간 부분을 인식 못 하기 때문에 class 중 앞 부분만 따서 사용, 꼭 앞부분이 아니어도 됨 중간, 끝도 상관 없음\n",
    "browser.find_element(By.CLASS_NAME, 'n0jPhd')"
   ]
  },
  {
   "cell_type": "code",
   "execution_count": 73,
   "metadata": {},
   "outputs": [
    {
     "data": {
      "text/plain": [
       "'STELSI, AI·블록체인기술로 \"Web3+AI 건축플랫폼\" 구축'"
      ]
     },
     "execution_count": 73,
     "metadata": {},
     "output_type": "execute_result"
    }
   ],
   "source": [
    "browser.find_element(By.CLASS_NAME, 'n0jPhd').text"
   ]
  },
  {
   "cell_type": "code",
   "execution_count": 52,
   "metadata": {},
   "outputs": [
    {
     "data": {
      "text/plain": [
       "'뉴스1'"
      ]
     },
     "execution_count": 52,
     "metadata": {},
     "output_type": "execute_result"
    }
   ],
   "source": [
    "# 언론사 company\n",
    "## class=\"MgUUmf NUnG9d\"\n",
    "browser.find_element(By.CLASS_NAME, 'MgUUmf').text"
   ]
  },
  {
   "cell_type": "code",
   "execution_count": 53,
   "metadata": {},
   "outputs": [
    {
     "data": {
      "text/plain": [
       "'(서울=뉴스1) 박현영 기자 | 한국을 찾은 일리야 폴로수킨 니어프로토콜 최고경영자(CEO)가 서울대학교 학생들을 대상으로 강연을 펼쳤다.'"
      ]
     },
     "execution_count": 53,
     "metadata": {},
     "output_type": "execute_result"
    }
   ],
   "source": [
    "# 내용 content\n",
    "## class=\"GI74Re nDgy9d\"\n",
    "browser.find_element(By.CLASS_NAME, 'GI74Re').text"
   ]
  },
  {
   "cell_type": "code",
   "execution_count": 54,
   "metadata": {},
   "outputs": [
    {
     "data": {
      "text/plain": [
       "'1일 전'"
      ]
     },
     "execution_count": 54,
     "metadata": {},
     "output_type": "execute_result"
    }
   ],
   "source": [
    "# 작성일 created_at\n",
    "## class=\"OSrXXb rbYSKb LfVVr\"\n",
    "browser.find_element(By.CLASS_NAME, 'rbYSKb').text\n",
    "## tag 이름으로 찾기\n",
    "## OSrXXb <- 이 명칭이 앞서 다른 곳에 쓰여서 해당 클래스로는 가져올 수 없었다.\n",
    "#browser.find_element(By.CLASS_NAME, 'OSrXXb').find_element(By.TAG_NAME, 'span').text"
   ]
  },
  {
   "cell_type": "markdown",
   "metadata": {},
   "source": [
    "🍯 wappalyzer - 크롬 익스텐션을 통해 웹사이트가 어떤 기술 툴로 개발되었는지 알 수 있다"
   ]
  },
  {
   "cell_type": "code",
   "execution_count": 55,
   "metadata": {},
   "outputs": [
    {
     "data": {
      "text/plain": [
       "[<selenium.webdriver.remote.webelement.WebElement (session=\"292ed73ba9c4863d411468d44277d032\", element=\"356C6115332236F038F4FCEDAA51CC38_element_1\")>,\n",
       " <selenium.webdriver.remote.webelement.WebElement (session=\"292ed73ba9c4863d411468d44277d032\", element=\"356C6115332236F038F4FCEDAA51CC38_element_5\")>,\n",
       " <selenium.webdriver.remote.webelement.WebElement (session=\"292ed73ba9c4863d411468d44277d032\", element=\"356C6115332236F038F4FCEDAA51CC38_element_6\")>,\n",
       " <selenium.webdriver.remote.webelement.WebElement (session=\"292ed73ba9c4863d411468d44277d032\", element=\"356C6115332236F038F4FCEDAA51CC38_element_7\")>,\n",
       " <selenium.webdriver.remote.webelement.WebElement (session=\"292ed73ba9c4863d411468d44277d032\", element=\"356C6115332236F038F4FCEDAA51CC38_element_8\")>,\n",
       " <selenium.webdriver.remote.webelement.WebElement (session=\"292ed73ba9c4863d411468d44277d032\", element=\"356C6115332236F038F4FCEDAA51CC38_element_9\")>,\n",
       " <selenium.webdriver.remote.webelement.WebElement (session=\"292ed73ba9c4863d411468d44277d032\", element=\"356C6115332236F038F4FCEDAA51CC38_element_10\")>,\n",
       " <selenium.webdriver.remote.webelement.WebElement (session=\"292ed73ba9c4863d411468d44277d032\", element=\"356C6115332236F038F4FCEDAA51CC38_element_11\")>,\n",
       " <selenium.webdriver.remote.webelement.WebElement (session=\"292ed73ba9c4863d411468d44277d032\", element=\"356C6115332236F038F4FCEDAA51CC38_element_12\")>,\n",
       " <selenium.webdriver.remote.webelement.WebElement (session=\"292ed73ba9c4863d411468d44277d032\", element=\"356C6115332236F038F4FCEDAA51CC38_element_13\")>]"
      ]
     },
     "execution_count": 55,
     "metadata": {},
     "output_type": "execute_result"
    }
   ],
   "source": [
    "# find_elements --> 리스트를 반환\n",
    "browser.find_elements(By.CLASS_NAME, 'n0jPhd')"
   ]
  },
  {
   "cell_type": "code",
   "execution_count": 56,
   "metadata": {},
   "outputs": [
    {
     "data": {
      "text/plain": [
       "10"
      ]
     },
     "execution_count": 56,
     "metadata": {},
     "output_type": "execute_result"
    }
   ],
   "source": [
    "len(browser.find_elements(By.CLASS_NAME, 'n0jPhd'))"
   ]
  },
  {
   "cell_type": "code",
   "execution_count": 57,
   "metadata": {},
   "outputs": [
    {
     "name": "stdout",
     "output_type": "stream",
     "text": [
      "서울대 찾은 니어프로토콜 CEO \"AI와 블록체인 기술 간 접점 확대할 것\"\n",
      "데이터 마구 수집하는 AI, 블록체인으로 추적…기술 융합 흐름\n",
      "RSS3, Web3 시대 블록체인과 인공지능 융합...챗GPT 플러그인으로\n",
      "[코인리더스] 블록체인과 인공지능의 융합..코발란트(CQT), 실시간 웹3 데이터 활용한 기술 선보여\n",
      "비탈릭 부테린 \"AI와 블록체인 융합, 신중해야\"\n",
      "블록체인과 AI의 '찰떡궁합'∙∙∙혁신적 융합 및 투자 잇따라\n",
      "다가오는 미래: 비탈릭 부테린이 AI와 블록체인의 융합을 구상하는 방법\n",
      "AI 넘보는 블록체인 기업들\n",
      "한국에이아이블록체인융합원, AI·블록체인 1600여명 교육\n",
      "\"AI와 블록체인은 함께 한다\"--a16z가 2024년에 주목하는 것들\n"
     ]
    }
   ],
   "source": [
    "news_list = browser.find_elements(By.CLASS_NAME, 'n0jPhd')\n",
    "\n",
    "for news in news_list:\n",
    "    print(news.text)"
   ]
  },
  {
   "cell_type": "code",
   "execution_count": 58,
   "metadata": {},
   "outputs": [
    {
     "data": {
      "text/plain": [
       "10"
      ]
     },
     "execution_count": 58,
     "metadata": {},
     "output_type": "execute_result"
    }
   ],
   "source": [
    "content_list = browser.find_elements(By.CLASS_NAME, 'GI74Re')\n",
    "len(content_list)"
   ]
  },
  {
   "cell_type": "code",
   "execution_count": 59,
   "metadata": {},
   "outputs": [
    {
     "name": "stdout",
     "output_type": "stream",
     "text": [
      "(서울=뉴스1) 박현영 기자 | 한국을 찾은 일리야 폴로수킨 니어프로토콜 최고경영자(CEO)가 서울대학교 학생들을 대상으로 강연을 펼쳤다.\n",
      "미국의 데이터 분석 회사인 FICO와 블록체인 스타트업 캐스퍼 랩스(Casper Labs)는 AI 알고리즘 구축 및 훈련 과정을 추적하기 위해 블록체인 기술을 활용...\n",
      "빅핸드홀딩스가 발행하는 블록체인 기반의 개방형 프로토콜 RSS3가 Web3 챗GPT 플러그인을 출시했다.'Web3 사용자 활동 플러그인'은 분산 네트워크의...\n",
      "코발란트(CQT)가 블록체인과 인공지능을 융합하여 혁신적인 사용 사례를 만들어내고 있다고 밝혔다. 코발란트 네트워크(CQT)는 인공지능과 블록체인의...\n",
      "[디지털투데이 AI리포터] 이더리움(ETH) 공동 설립자 비탈릭 부테린이 블록체인 개발자들에게 인공지능(AI)과 블록체인 기술을 융합할 때 주의할 것을...\n",
      "[스타트업투데이] 최근 업계에서는 인공지능(AI) 분야에 블록체인 산업을 접목하려는 시도가 잇따르고 있다. 특히 국내 게임사들이 AI를 접목하기...\n",
      "요약 ... 이더리움의 창시자 비탈릭 부테린은 최근 인공지능(AI)과 암호화폐를 연결하는 네 가지 획기적인 아이디어를 공유하며 두 기술이 합쳐지는 미래를...\n",
      "블록체인 업계를 이끄는 암호화폐(가상자산) 시장의 침체가 길어지면서 기업들이 시장 확대에 나서고 있다.22일 업계에 따르면 미국 나스닥 상장사인...\n",
      "한국에이아이블록체인융합원은 지난 2020년부터 과학기술정보통신부가 주관하고 경남테크노파크가 수행하는 지역ICT이노베이션스퀘어 교육사업을 위탁...\n",
      "[블록미디어 정아인 기자] “인공지능의 혁신은 사회, 문화, 정치, 경제 등 여러 분야에 영향을 미친다. 동시에 암호화 기술은 AI 생성 콘텐츠의 출처...\n"
     ]
    }
   ],
   "source": [
    "for content in content_list:\n",
    "    print(content.text)"
   ]
  },
  {
   "cell_type": "code",
   "execution_count": 65,
   "metadata": {},
   "outputs": [
    {
     "data": {
      "text/plain": [
       "'https://www.news1.kr/articles/?5373149'"
      ]
     },
     "execution_count": 65,
     "metadata": {},
     "output_type": "execute_result"
    }
   ],
   "source": [
    "# 링크 데이터는 href 속성에 담겨 있다. <a href='~~~'/> 그 속성을 가져오기 위해 get_attribute()를 사용하자.\n",
    "# class=\"WlydOe\"\n",
    "browser.find_element(By.CLASS_NAME, 'WlydOe').get_attribute('href')\n"
   ]
  },
  {
   "cell_type": "code",
   "execution_count": 92,
   "metadata": {},
   "outputs": [
    {
     "name": "stdout",
     "output_type": "stream",
     "text": [
      "Requirement already satisfied: pandas in /opt/anaconda3/lib/python3.11/site-packages (2.1.4)\n",
      "Requirement already satisfied: numpy<2,>=1.23.2 in /opt/anaconda3/lib/python3.11/site-packages (from pandas) (1.26.4)\n",
      "Requirement already satisfied: python-dateutil>=2.8.2 in /opt/anaconda3/lib/python3.11/site-packages (from pandas) (2.8.2)\n",
      "Requirement already satisfied: pytz>=2020.1 in /opt/anaconda3/lib/python3.11/site-packages (from pandas) (2023.3.post1)\n",
      "Requirement already satisfied: tzdata>=2022.1 in /opt/anaconda3/lib/python3.11/site-packages (from pandas) (2023.3)\n",
      "Requirement already satisfied: six>=1.5 in /opt/anaconda3/lib/python3.11/site-packages (from python-dateutil>=2.8.2->pandas) (1.16.0)\n",
      "Note: you may need to restart the kernel to use updated packages.\n"
     ]
    }
   ],
   "source": [
    "%pip install pandas"
   ]
  },
  {
   "cell_type": "code",
   "execution_count": 94,
   "metadata": {},
   "outputs": [],
   "source": [
    "import pandas as pd\n"
   ]
  },
  {
   "cell_type": "code",
   "execution_count": 97,
   "metadata": {},
   "outputs": [],
   "source": [
    "# 빈 리스트 생성\n",
    "data_list = []"
   ]
  },
  {
   "cell_type": "code",
   "execution_count": 93,
   "metadata": {},
   "outputs": [
    {
     "data": {
      "text/plain": [
       "10"
      ]
     },
     "execution_count": 93,
     "metadata": {},
     "output_type": "execute_result"
    }
   ],
   "source": [
    "## 하지만 모든 요소들을 for문을 사용하면, 부하가 커진다.\n",
    "## 최대한 하나의 컨테이너를 가져와 거기에서 각각 추출하는 것이 좋다.\n",
    "# class=\"SoaBEf\"\n",
    "container_list = browser.find_elements(By.CLASS_NAME, 'SoaBEf')\n",
    "len(container_list)"
   ]
  },
  {
   "cell_type": "code",
   "execution_count": 91,
   "metadata": {},
   "outputs": [
    {
     "name": "stdout",
     "output_type": "stream",
     "text": [
      "디지털타임스\n",
      "STELSI, AI·블록체인기술로 \"Web3+AI 건축플랫폼\" 구축\n",
      "블록체인 건축산업을 선도하는 STELSI가 최신 AI 기술과 블록체인을 접목한 \"Web3+AI 건축플랫폼\"을 구축하여, 건축가와 창작자들을 위한 웹3 솔루션...\n",
      ".\n",
      "1시간 전\n",
      "--------------------\n",
      "뉴스1\n",
      "서울대 찾은 니어프로토콜 CEO \"AI와 블록체인 기술 간 접점 확대할 것\"\n",
      "(서울=뉴스1) 박현영 기자 | 한국을 찾은 일리야 폴로수킨 니어프로토콜 최고경영자(CEO)가 서울대학교 학생들을 대상으로 강연을 펼쳤다.\n",
      ".\n",
      "1일 전\n",
      "--------------------\n",
      "이투데이\n",
      "데이터 마구 수집하는 AI, 블록체인으로 추적…기술 융합 흐름\n",
      "미국의 데이터 분석 회사인 FICO와 블록체인 스타트업 캐스퍼 랩스(Casper Labs)는 AI 알고리즘 구축 및 훈련 과정을 추적하기 위해 블록체인 기술을 활용...\n",
      ".\n",
      "2024. 1. 25.\n",
      "--------------------\n",
      "인공지능신문\n",
      "RSS3, Web3 시대 블록체인과 인공지능 융합...챗GPT 플러그인으로\n",
      "빅핸드홀딩스가 발행하는 블록체인 기반의 개방형 프로토콜 RSS3가 Web3 챗GPT 플러그인을 출시했다.'Web3 사용자 활동 플러그인'은 분산 네트워크의...\n",
      ".\n",
      "2023. 12. 5.\n",
      "--------------------\n",
      "코인리더스\n",
      "[코인리더스] 블록체인과 인공지능의 융합..코발란트(CQT), 실시간 웹3 데이터 활용한 기술 선보여\n",
      "코발란트(CQT)가 블록체인과 인공지능을 융합하여 혁신적인 사용 사례를 만들어내고 있다고 밝혔다. 코발란트 네트워크(CQT)는 인공지능과 블록체인의...\n",
      ".\n",
      "2주 전\n",
      "--------------------\n",
      "디지털투데이\n",
      "비탈릭 부테린 \"AI와 블록체인 융합, 신중해야\"\n",
      "[디지털투데이 AI리포터] 이더리움(ETH) 공동 설립자 비탈릭 부테린이 블록체인 개발자들에게 인공지능(AI)과 블록체인 기술을 융합할 때 주의할 것을...\n",
      ".\n",
      "2024. 1. 31.\n",
      "--------------------\n",
      "스타트업투데이\n",
      "블록체인과 AI의 '찰떡궁합'∙∙∙혁신적 융합 및 투자 잇따라\n",
      "[스타트업투데이] 최근 업계에서는 인공지능(AI) 분야에 블록체인 산업을 접목하려는 시도가 잇따르고 있다. 특히 국내 게임사들이 AI를 접목하기...\n",
      ".\n",
      "2023. 5. 18.\n",
      "--------------------\n",
      "BeInCrypto Korea\n",
      "다가오는 미래: 비탈릭 부테린이 AI와 블록체인의 융합을 구상하는 방법\n",
      "요약 ... 이더리움의 창시자 비탈릭 부테린은 최근 인공지능(AI)과 암호화폐를 연결하는 네 가지 획기적인 아이디어를 공유하며 두 기술이 합쳐지는 미래를...\n",
      ".\n",
      "2024. 1. 31.\n",
      "--------------------\n",
      "코인데스크코리아\n",
      "AI 넘보는 블록체인 기업들\n",
      "블록체인 업계를 이끄는 암호화폐(가상자산) 시장의 침체가 길어지면서 기업들이 시장 확대에 나서고 있다.22일 업계에 따르면 미국 나스닥 상장사인...\n",
      ".\n",
      "2023. 8. 22.\n",
      "--------------------\n",
      "전자신문\n",
      "한국에이아이블록체인융합원, AI·블록체인 1600여명 교육\n",
      "한국에이아이블록체인융합원은 지난 2020년부터 과학기술정보통신부가 주관하고 경남테크노파크가 수행하는 지역ICT이노베이션스퀘어 교육사업을 위탁...\n",
      ".\n",
      "2023. 11. 6.\n",
      "--------------------\n"
     ]
    }
   ],
   "source": [
    "for container in container_list:\n",
    "    print(container.text)\n",
    "    print('-'*20)"
   ]
  },
  {
   "cell_type": "code",
   "execution_count": 98,
   "metadata": {},
   "outputs": [
    {
     "data": {
      "text/plain": [
       "[{'제목': 'STELSI, AI·블록체인기술로 \"Web3+AI 건축플랫폼\" 구축',\n",
       "  '언론사': '디지털타임스',\n",
       "  '내용': '블록체인 건축산업을 선도하는 STELSI가 최신 AI 기술과 블록체인을 접목한 \"Web3+AI 건축플랫폼\"을 구축하여, 건축가와 창작자들을 위한 웹3 솔루션...',\n",
       "  '작성시간': '1시간 전',\n",
       "  '링크': 'https://m.dt.co.kr/contents.html?article_no=2024040502109923056001'},\n",
       " {'제목': '서울대 찾은 니어프로토콜 CEO \"AI와 블록체인 기술 간 접점 확대할 것\"',\n",
       "  '언론사': '뉴스1',\n",
       "  '내용': '(서울=뉴스1) 박현영 기자 | 한국을 찾은 일리야 폴로수킨 니어프로토콜 최고경영자(CEO)가 서울대학교 학생들을 대상으로 강연을 펼쳤다.',\n",
       "  '작성시간': '1일 전',\n",
       "  '링크': 'https://www.news1.kr/articles/?5373149'},\n",
       " {'제목': '데이터 마구 수집하는 AI, 블록체인으로 추적…기술 융합 흐름',\n",
       "  '언론사': '이투데이',\n",
       "  '내용': '미국의 데이터 분석 회사인 FICO와 블록체인 스타트업 캐스퍼 랩스(Casper Labs)는 AI 알고리즘 구축 및 훈련 과정을 추적하기 위해 블록체인 기술을 활용...',\n",
       "  '작성시간': '2024. 1. 25.',\n",
       "  '링크': 'https://www.etoday.co.kr/news/view/2324928'},\n",
       " {'제목': 'RSS3, Web3 시대 블록체인과 인공지능 융합...챗GPT 플러그인으로',\n",
       "  '언론사': '인공지능신문',\n",
       "  '내용': \"빅핸드홀딩스가 발행하는 블록체인 기반의 개방형 프로토콜 RSS3가 Web3 챗GPT 플러그인을 출시했다.'Web3 사용자 활동 플러그인'은 분산 네트워크의...\",\n",
       "  '작성시간': '2023. 12. 5.',\n",
       "  '링크': 'https://www.aitimes.kr/news/articleView.html?idxno=29605'},\n",
       " {'제목': '[코인리더스] 블록체인과 인공지능의 융합..코발란트(CQT), 실시간 웹3 데이터 활용한 기술 선보여',\n",
       "  '언론사': '코인리더스',\n",
       "  '내용': '코발란트(CQT)가 블록체인과 인공지능을 융합하여 혁신적인 사용 사례를 만들어내고 있다고 밝혔다. 코발란트 네트워크(CQT)는 인공지능과 블록체인의...',\n",
       "  '작성시간': '2주 전',\n",
       "  '링크': 'https://www.coinreaders.com/103171'},\n",
       " {'제목': '비탈릭 부테린 \"AI와 블록체인 융합, 신중해야\"',\n",
       "  '언론사': '디지털투데이',\n",
       "  '내용': '[디지털투데이 AI리포터] 이더리움(ETH) 공동 설립자 비탈릭 부테린이 블록체인 개발자들에게 인공지능(AI)과 블록체인 기술을 융합할 때 주의할 것을...',\n",
       "  '작성시간': '2024. 1. 31.',\n",
       "  '링크': 'https://www.digitaltoday.co.kr/news/articleView.html?idxno=504200'},\n",
       " {'제목': \"블록체인과 AI의 '찰떡궁합'∙∙∙혁신적 융합 및 투자 잇따라\",\n",
       "  '언론사': '스타트업투데이',\n",
       "  '내용': '[스타트업투데이] 최근 업계에서는 인공지능(AI) 분야에 블록체인 산업을 접목하려는 시도가 잇따르고 있다. 특히 국내 게임사들이 AI를 접목하기...',\n",
       "  '작성시간': '2023. 5. 18.',\n",
       "  '링크': 'https://www.startuptoday.kr/news/articleView.html?idxno=46869'},\n",
       " {'제목': '다가오는 미래: 비탈릭 부테린이 AI와 블록체인의 융합을 구상하는 방법',\n",
       "  '언론사': 'BeInCrypto Korea',\n",
       "  '내용': '요약 ... 이더리움의 창시자 비탈릭 부테린은 최근 인공지능(AI)과 암호화폐를 연결하는 네 가지 획기적인 아이디어를 공유하며 두 기술이 합쳐지는 미래를...',\n",
       "  '작성시간': '2024. 1. 31.',\n",
       "  '링크': 'https://kr.beincrypto.com/base-news/46660/'},\n",
       " {'제목': 'AI 넘보는 블록체인 기업들',\n",
       "  '언론사': '코인데스크코리아',\n",
       "  '내용': '블록체인 업계를 이끄는 암호화폐(가상자산) 시장의 침체가 길어지면서 기업들이 시장 확대에 나서고 있다.22일 업계에 따르면 미국 나스닥 상장사인...',\n",
       "  '작성시간': '2023. 8. 22.',\n",
       "  '링크': 'https://www.coindeskkorea.com/news/articleView.html?idxno=92557'},\n",
       " {'제목': '한국에이아이블록체인융합원, AI·블록체인 1600여명 교육',\n",
       "  '언론사': '전자신문',\n",
       "  '내용': '한국에이아이블록체인융합원은 지난 2020년부터 과학기술정보통신부가 주관하고 경남테크노파크가 수행하는 지역ICT이노베이션스퀘어 교육사업을 위탁...',\n",
       "  '작성시간': '2023. 11. 6.',\n",
       "  '링크': 'https://www.etnews.com/20231106000268'}]"
      ]
     },
     "execution_count": 98,
     "metadata": {},
     "output_type": "execute_result"
    }
   ],
   "source": [
    "for container in container_list:\n",
    "    title = container.find_element(By.CLASS_NAME, 'n0jPhd').text\n",
    "    company = container.find_element(By.CLASS_NAME, 'MgUUmf').text\n",
    "    content = container.find_element(By.CLASS_NAME, 'GI74Re').text\n",
    "    created_at = container.find_element(By.CLASS_NAME, 'rbYSKb').text\n",
    "    link = container.find_element(By.CLASS_NAME, 'WlydOe').get_attribute('href')\n",
    "    ## 쌤 코드\n",
    "    # parent = container.find_element(By.CLASS_NAME, 'uhHOwf')\n",
    "    # img_link = parent.find_element(By.TAG_NAME, 'img').get_attribute('src')\n",
    "    # 내가 한 코드\n",
    "    # img = container.find_element(By.TAG_NAME, 'img').get_attribute('src')\n",
    "    # img\n",
    "    data_list.append({\n",
    "        '제목': title,\n",
    "        '언론사': company,\n",
    "        '내용': content,\n",
    "        '작성시간': created_at,\n",
    "        '링크': link\n",
    "    })\n",
    "    # print(title, '|', company, '|', content, '|', created_at, '|', link, '\\n\\n')\n",
    "data_list"
   ]
  },
  {
   "cell_type": "code",
   "execution_count": 99,
   "metadata": {},
   "outputs": [
    {
     "data": {
      "text/plain": [
       "10"
      ]
     },
     "execution_count": 99,
     "metadata": {},
     "output_type": "execute_result"
    }
   ],
   "source": [
    "len(data_list)"
   ]
  },
  {
   "cell_type": "code",
   "execution_count": 100,
   "metadata": {},
   "outputs": [
    {
     "data": {
      "text/html": [
       "<div>\n",
       "<style scoped>\n",
       "    .dataframe tbody tr th:only-of-type {\n",
       "        vertical-align: middle;\n",
       "    }\n",
       "\n",
       "    .dataframe tbody tr th {\n",
       "        vertical-align: top;\n",
       "    }\n",
       "\n",
       "    .dataframe thead th {\n",
       "        text-align: right;\n",
       "    }\n",
       "</style>\n",
       "<table border=\"1\" class=\"dataframe\">\n",
       "  <thead>\n",
       "    <tr style=\"text-align: right;\">\n",
       "      <th></th>\n",
       "      <th>제목</th>\n",
       "      <th>언론사</th>\n",
       "      <th>내용</th>\n",
       "      <th>작성시간</th>\n",
       "      <th>링크</th>\n",
       "    </tr>\n",
       "  </thead>\n",
       "  <tbody>\n",
       "    <tr>\n",
       "      <th>0</th>\n",
       "      <td>STELSI, AI·블록체인기술로 \"Web3+AI 건축플랫폼\" 구축</td>\n",
       "      <td>디지털타임스</td>\n",
       "      <td>블록체인 건축산업을 선도하는 STELSI가 최신 AI 기술과 블록체인을 접목한 \"W...</td>\n",
       "      <td>1시간 전</td>\n",
       "      <td>https://m.dt.co.kr/contents.html?article_no=20...</td>\n",
       "    </tr>\n",
       "    <tr>\n",
       "      <th>1</th>\n",
       "      <td>서울대 찾은 니어프로토콜 CEO \"AI와 블록체인 기술 간 접점 확대할 것\"</td>\n",
       "      <td>뉴스1</td>\n",
       "      <td>(서울=뉴스1) 박현영 기자 | 한국을 찾은 일리야 폴로수킨 니어프로토콜 최고경영자...</td>\n",
       "      <td>1일 전</td>\n",
       "      <td>https://www.news1.kr/articles/?5373149</td>\n",
       "    </tr>\n",
       "    <tr>\n",
       "      <th>2</th>\n",
       "      <td>데이터 마구 수집하는 AI, 블록체인으로 추적…기술 융합 흐름</td>\n",
       "      <td>이투데이</td>\n",
       "      <td>미국의 데이터 분석 회사인 FICO와 블록체인 스타트업 캐스퍼 랩스(Casper L...</td>\n",
       "      <td>2024. 1. 25.</td>\n",
       "      <td>https://www.etoday.co.kr/news/view/2324928</td>\n",
       "    </tr>\n",
       "    <tr>\n",
       "      <th>3</th>\n",
       "      <td>RSS3, Web3 시대 블록체인과 인공지능 융합...챗GPT 플러그인으로</td>\n",
       "      <td>인공지능신문</td>\n",
       "      <td>빅핸드홀딩스가 발행하는 블록체인 기반의 개방형 프로토콜 RSS3가 Web3 챗GPT...</td>\n",
       "      <td>2023. 12. 5.</td>\n",
       "      <td>https://www.aitimes.kr/news/articleView.html?i...</td>\n",
       "    </tr>\n",
       "    <tr>\n",
       "      <th>4</th>\n",
       "      <td>[코인리더스] 블록체인과 인공지능의 융합..코발란트(CQT), 실시간 웹3 데이터 ...</td>\n",
       "      <td>코인리더스</td>\n",
       "      <td>코발란트(CQT)가 블록체인과 인공지능을 융합하여 혁신적인 사용 사례를 만들어내고 ...</td>\n",
       "      <td>2주 전</td>\n",
       "      <td>https://www.coinreaders.com/103171</td>\n",
       "    </tr>\n",
       "    <tr>\n",
       "      <th>5</th>\n",
       "      <td>비탈릭 부테린 \"AI와 블록체인 융합, 신중해야\"</td>\n",
       "      <td>디지털투데이</td>\n",
       "      <td>[디지털투데이 AI리포터] 이더리움(ETH) 공동 설립자 비탈릭 부테린이 블록체인 ...</td>\n",
       "      <td>2024. 1. 31.</td>\n",
       "      <td>https://www.digitaltoday.co.kr/news/articleVie...</td>\n",
       "    </tr>\n",
       "    <tr>\n",
       "      <th>6</th>\n",
       "      <td>블록체인과 AI의 '찰떡궁합'∙∙∙혁신적 융합 및 투자 잇따라</td>\n",
       "      <td>스타트업투데이</td>\n",
       "      <td>[스타트업투데이] 최근 업계에서는 인공지능(AI) 분야에 블록체인 산업을 접목하려는...</td>\n",
       "      <td>2023. 5. 18.</td>\n",
       "      <td>https://www.startuptoday.kr/news/articleView.h...</td>\n",
       "    </tr>\n",
       "    <tr>\n",
       "      <th>7</th>\n",
       "      <td>다가오는 미래: 비탈릭 부테린이 AI와 블록체인의 융합을 구상하는 방법</td>\n",
       "      <td>BeInCrypto Korea</td>\n",
       "      <td>요약 ... 이더리움의 창시자 비탈릭 부테린은 최근 인공지능(AI)과 암호화폐를 연...</td>\n",
       "      <td>2024. 1. 31.</td>\n",
       "      <td>https://kr.beincrypto.com/base-news/46660/</td>\n",
       "    </tr>\n",
       "    <tr>\n",
       "      <th>8</th>\n",
       "      <td>AI 넘보는 블록체인 기업들</td>\n",
       "      <td>코인데스크코리아</td>\n",
       "      <td>블록체인 업계를 이끄는 암호화폐(가상자산) 시장의 침체가 길어지면서 기업들이 시장 ...</td>\n",
       "      <td>2023. 8. 22.</td>\n",
       "      <td>https://www.coindeskkorea.com/news/articleView...</td>\n",
       "    </tr>\n",
       "    <tr>\n",
       "      <th>9</th>\n",
       "      <td>한국에이아이블록체인융합원, AI·블록체인 1600여명 교육</td>\n",
       "      <td>전자신문</td>\n",
       "      <td>한국에이아이블록체인융합원은 지난 2020년부터 과학기술정보통신부가 주관하고 경남테크...</td>\n",
       "      <td>2023. 11. 6.</td>\n",
       "      <td>https://www.etnews.com/20231106000268</td>\n",
       "    </tr>\n",
       "  </tbody>\n",
       "</table>\n",
       "</div>"
      ],
      "text/plain": [
       "                                                  제목               언론사  \\\n",
       "0              STELSI, AI·블록체인기술로 \"Web3+AI 건축플랫폼\" 구축            디지털타임스   \n",
       "1         서울대 찾은 니어프로토콜 CEO \"AI와 블록체인 기술 간 접점 확대할 것\"               뉴스1   \n",
       "2                 데이터 마구 수집하는 AI, 블록체인으로 추적…기술 융합 흐름              이투데이   \n",
       "3          RSS3, Web3 시대 블록체인과 인공지능 융합...챗GPT 플러그인으로            인공지능신문   \n",
       "4  [코인리더스] 블록체인과 인공지능의 융합..코발란트(CQT), 실시간 웹3 데이터 ...             코인리더스   \n",
       "5                        비탈릭 부테린 \"AI와 블록체인 융합, 신중해야\"            디지털투데이   \n",
       "6                 블록체인과 AI의 '찰떡궁합'∙∙∙혁신적 융합 및 투자 잇따라           스타트업투데이   \n",
       "7            다가오는 미래: 비탈릭 부테린이 AI와 블록체인의 융합을 구상하는 방법  BeInCrypto Korea   \n",
       "8                                    AI 넘보는 블록체인 기업들          코인데스크코리아   \n",
       "9                   한국에이아이블록체인융합원, AI·블록체인 1600여명 교육              전자신문   \n",
       "\n",
       "                                                  내용          작성시간  \\\n",
       "0  블록체인 건축산업을 선도하는 STELSI가 최신 AI 기술과 블록체인을 접목한 \"W...         1시간 전   \n",
       "1  (서울=뉴스1) 박현영 기자 | 한국을 찾은 일리야 폴로수킨 니어프로토콜 최고경영자...          1일 전   \n",
       "2  미국의 데이터 분석 회사인 FICO와 블록체인 스타트업 캐스퍼 랩스(Casper L...  2024. 1. 25.   \n",
       "3  빅핸드홀딩스가 발행하는 블록체인 기반의 개방형 프로토콜 RSS3가 Web3 챗GPT...  2023. 12. 5.   \n",
       "4  코발란트(CQT)가 블록체인과 인공지능을 융합하여 혁신적인 사용 사례를 만들어내고 ...          2주 전   \n",
       "5  [디지털투데이 AI리포터] 이더리움(ETH) 공동 설립자 비탈릭 부테린이 블록체인 ...  2024. 1. 31.   \n",
       "6  [스타트업투데이] 최근 업계에서는 인공지능(AI) 분야에 블록체인 산업을 접목하려는...  2023. 5. 18.   \n",
       "7  요약 ... 이더리움의 창시자 비탈릭 부테린은 최근 인공지능(AI)과 암호화폐를 연...  2024. 1. 31.   \n",
       "8  블록체인 업계를 이끄는 암호화폐(가상자산) 시장의 침체가 길어지면서 기업들이 시장 ...  2023. 8. 22.   \n",
       "9  한국에이아이블록체인융합원은 지난 2020년부터 과학기술정보통신부가 주관하고 경남테크...  2023. 11. 6.   \n",
       "\n",
       "                                                  링크  \n",
       "0  https://m.dt.co.kr/contents.html?article_no=20...  \n",
       "1             https://www.news1.kr/articles/?5373149  \n",
       "2         https://www.etoday.co.kr/news/view/2324928  \n",
       "3  https://www.aitimes.kr/news/articleView.html?i...  \n",
       "4                 https://www.coinreaders.com/103171  \n",
       "5  https://www.digitaltoday.co.kr/news/articleVie...  \n",
       "6  https://www.startuptoday.kr/news/articleView.h...  \n",
       "7         https://kr.beincrypto.com/base-news/46660/  \n",
       "8  https://www.coindeskkorea.com/news/articleView...  \n",
       "9              https://www.etnews.com/20231106000268  "
      ]
     },
     "execution_count": 100,
     "metadata": {},
     "output_type": "execute_result"
    }
   ],
   "source": [
    "df = pd.DataFrame(data_list)\n",
    "df"
   ]
  },
  {
   "cell_type": "code",
   "execution_count": 101,
   "metadata": {},
   "outputs": [],
   "source": [
    "df.to_csv('google_new.csv')\n",
    "# 인코딩 필요할 시:\n",
    "#df.to_csv('google_new.csv', encoding='utf-8-sig')\n",
    "#sig와 utf-8-sig의 차이: BOM"
   ]
  },
  {
   "cell_type": "code",
   "execution_count": null,
   "metadata": {},
   "outputs": [],
   "source": [
    "#TODO: slack 채널로 파일 보내기"
   ]
  }
 ],
 "metadata": {
  "kernelspec": {
   "display_name": "base",
   "language": "python",
   "name": "python3"
  },
  "language_info": {
   "codemirror_mode": {
    "name": "ipython",
    "version": 3
   },
   "file_extension": ".py",
   "mimetype": "text/x-python",
   "name": "python",
   "nbconvert_exporter": "python",
   "pygments_lexer": "ipython3",
   "version": "3.11.7"
  }
 },
 "nbformat": 4,
 "nbformat_minor": 2
}
