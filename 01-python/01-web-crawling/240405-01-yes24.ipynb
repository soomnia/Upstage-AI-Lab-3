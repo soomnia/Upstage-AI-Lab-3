{
 "cells": [
  {
   "cell_type": "markdown",
   "metadata": {},
   "source": [
    "## YES24 베스트 셀러\n",
    "* 제목, 저자, 링크 크롤링 하기"
   ]
  },
  {
   "cell_type": "code",
   "execution_count": 55,
   "metadata": {},
   "outputs": [],
   "source": [
    "from selenium import webdriver\n",
    "from selenium.webdriver.common.by import By"
   ]
  },
  {
   "cell_type": "code",
   "execution_count": 56,
   "metadata": {},
   "outputs": [],
   "source": [
    "browser = webdriver.Chrome()"
   ]
  },
  {
   "cell_type": "code",
   "execution_count": 57,
   "metadata": {},
   "outputs": [],
   "source": [
    "url = 'https://www.yes24.com/Product/Category/BestSeller?CategoryNumber=001&sumgb=06'\n",
    "browser.get(url)"
   ]
  },
  {
   "cell_type": "code",
   "execution_count": 58,
   "metadata": {},
   "outputs": [],
   "source": [
    "parent = browser.find_element(By.ID, 'yesBestList')"
   ]
  },
  {
   "cell_type": "code",
   "execution_count": 59,
   "metadata": {},
   "outputs": [
    {
     "data": {
      "text/plain": [
       "24"
      ]
     },
     "execution_count": 59,
     "metadata": {},
     "output_type": "execute_result"
    }
   ],
   "source": [
    "book_list = parent.find_elements(By.CLASS_NAME, 'item_info')\n",
    "len(book_list)"
   ]
  },
  {
   "cell_type": "code",
   "execution_count": 60,
   "metadata": {},
   "outputs": [],
   "source": [
    "#book_list = browser.find_elements(By.CLASS_NAME, 'item_info')"
   ]
  },
  {
   "cell_type": "code",
   "execution_count": 61,
   "metadata": {},
   "outputs": [],
   "source": [
    "#len(book_list)"
   ]
  },
  {
   "cell_type": "code",
   "execution_count": 62,
   "metadata": {},
   "outputs": [],
   "source": [
    "##TODO: itemUnit?"
   ]
  },
  {
   "cell_type": "markdown",
   "metadata": {},
   "source": [
    "1. 책 제목\n",
    "2. 저자\n",
    "3. 출간일\n",
    "4. 가격\n",
    "5. 판매지수\n",
    "6. 평점"
   ]
  },
  {
   "cell_type": "code",
   "execution_count": 63,
   "metadata": {},
   "outputs": [
    {
     "name": "stdout",
     "output_type": "stream",
     "text": [
      "불변의 법칙 | https://www.yes24.com/Product/Goods/124999476 | 모건 하우절 저/이수경 역 | 2024년 02월 | 22,500원 | 판매지수 424,284 | 강력추천\n",
      "패밀리 레스토랑 가자. 上 | https://www.yes24.com/Product/Goods/125692983 | 와야마 야마 글그림/현승희 역 | 2024년 04월 | 7,650원 | 판매지수 134,376 | 10\n",
      "일류의 조건 | https://www.yes24.com/Product/Goods/125491624 | 사이토 다카시 저/정현 역 | 2024년 03월 | 17,820원 | 판매지수 161,994 | 오늘의책\n",
      "나를 소모하지 않는 현명한 태도에 관하여 | https://www.yes24.com/Product/Goods/125295101 | 마티아스 뇔케 저/이미옥 역 | 2024년 03월 | 16,020원 | 판매지수 167,601 | 10\n",
      "삼체 1~3 세트 | https://www.yes24.com/Product/Goods/90926731 | 류츠신 저/이현아, 허유영 역 | 2020년 07월 | 60,300원 | 판매지수 118,308 | 구매혜택\n",
      "나는 메트로폴리탄 미술관의 경비원입니다 | https://www.yes24.com/Product/Goods/123675187 | 패트릭 브링리 저/김희정, 조현주 역 | 2023년 11월 | 15,750원 | 판매지수 411,657 | 구매혜택\n",
      "알사탕 제조법 | https://www.yes24.com/Product/Goods/125558276 | 백희나 저 | 2024년 03월 | 9,000원 | 판매지수 129,576 | 오늘의책\n",
      "마흔에 읽는 쇼펜하우어 | https://www.yes24.com/Product/Goods/122120495 | 강용수 저 | 2023년 09월 | 15,300원 | 판매지수 859,296 | 10\n",
      "세이노의 가르침 | https://www.yes24.com/Product/Goods/117014613 | 세이노(SayNo) 저 | 2023년 03월 | 6,480원 | 판매지수 1,811,112 | 10\n",
      "이처럼 사소한 것들 | https://www.yes24.com/Product/Goods/123400303 | 클레어 키건 저/홍한별 역 | 2023년 11월 | 12,420원 | 판매지수 308,556 | 오늘의책\n",
      "ETS 토익 정기시험 기출문제집 1000 Vol. 4 RC | https://www.yes24.com/Product/Goods/124043812 | ETS 저 | 2023년 12월 | 17,820원 | 판매지수 314,172 | 구매혜택\n",
      "ETS 토익 정기시험 기출문제집 1000 Vol. 4 LC | https://www.yes24.com/Product/Goods/124043802 | ETS 저 | 2023년 12월 | 17,820원 | 판매지수 294,477 | 구매혜택\n",
      "찌그러져도 동그라미입니다 | https://www.yes24.com/Product/Goods/125384202 | 김창완 저 | 2024년 03월 | 16,020원 | 판매지수 87,339 | 10\n",
      "위풍당당 여우 꼬리 5 | https://www.yes24.com/Product/Goods/125691975 | 손원평 글/만물상 그림 | 2024년 03월 | 11,700원 | 판매지수 42,237 | 구매혜택\n",
      "공부가 설렘이 되는 순간 | https://www.yes24.com/Product/Goods/125075376 | 조승우 저 | 2024년 02월 | 16,920원 | 판매지수 121,854 | 오늘의책\n",
      "비트코인 폭발적 상승에 올라타라 | https://www.yes24.com/Product/Goods/125660642 | 강환국 저 | 2024년 04월 | 25,200원 | 판매지수 41,067 | 구매혜택\n",
      "돈의 심리학 (30만 부 기념 스페셜 에디션) | https://www.yes24.com/Product/Goods/96547408 | 모건 하우절 저/이지연 역 | 2021년 01월 | 17,820원 | 판매지수 210,219 | 오늘의책\n",
      "꽃길이 따로 있나, 내 삶이 꽃인 것을 | https://www.yes24.com/Product/Goods/125576919 | 오평선 저 | 2024년 03월 | 15,120원 | 판매지수 47,334 | 10\n",
      "깨진 틈이 있어야 그 사이로 빛이 들어온다 | https://www.yes24.com/Product/Goods/125184439 | 프리드리히 니체 저/김신종 역 | 2024년 03월 | 16,920원 | 판매지수 95,775 | 10\n",
      "열혈강호 90 | https://www.yes24.com/Product/Goods/125659619 | 전극진 글/양재현 그림 | 2024년 03월 | 4,950원 | 판매지수 53,010 | 구매혜택\n",
      "기적의 서울대 쌍둥이 공부법 | https://www.yes24.com/Product/Goods/125300689 | 여호원, 여호용 저 | 2024년 03월 | 17,100원 | 판매지수 124,608 | 오늘의책\n",
      "요즘 역사 : 근대 | https://www.yes24.com/Product/Goods/125456070 | 황현필 저 | 2024년 03월 | 16,200원 | 판매지수 81,009 | 구매혜택\n",
      "이은경쌤의 초등어휘일력 365 | https://www.yes24.com/Product/Goods/114853233 | 이은경 저 | 2022년 10월 | 16,920원 | 판매지수 262,758 | 10\n",
      "똑 부러지게 내 생각을 전하는 말하기 연습 | https://www.yes24.com/Product/Goods/125028521 | 임정민 글/히쩌미 그림 | 2024년 03월 | 12,870원 | 판매지수 115,398 | 오늘의책\n"
     ]
    }
   ],
   "source": [
    "for book in book_list:\n",
    "    title = book.find_element(By.CLASS_NAME, 'gd_name').text\n",
    "    link = book.find_element(By.CLASS_NAME, 'gd_name').get_attribute('href')\n",
    "    author = book.find_element(By.CLASS_NAME, 'info_auth').text\n",
    "    pub_date = book.find_element(By.CLASS_NAME, 'info_date').text\n",
    "    price = book.find_element(By.CLASS_NAME, 'txt_num').text\n",
    "    sold = book.find_element(By.CLASS_NAME, 'saleNum').text\n",
    "    #TODO: rate가 좀 이상혀.... 다시 해보자\n",
    "    #rate = book.find_element(By.TAG_NAME, 'em').text\n",
    "    #print(title, '|', link, '|', author, '|', pub_date, '|', price, '|', sold, '|', rate)\n",
    "    print(title, '|', link, '|', author, '|', pub_date, '|', price, '|', sold)"
   ]
  },
  {
   "cell_type": "code",
   "execution_count": 64,
   "metadata": {},
   "outputs": [],
   "source": [
    "## 저자 이름만 가져오기"
   ]
  },
  {
   "cell_type": "code",
   "execution_count": 65,
   "metadata": {},
   "outputs": [
    {
     "name": "stdout",
     "output_type": "stream",
     "text": [
      "//*[@id=\"bestContentsWrap\"]/div[6]/div/div/div/a[1]\n"
     ]
    },
    {
     "name": "stdout",
     "output_type": "stream",
     "text": [
      "//*[@id=\"bestContentsWrap\"]/div[6]/div/div/div/a[2]\n",
      "//*[@id=\"bestContentsWrap\"]/div[6]/div/div/div/a[3]\n"
     ]
    }
   ],
   "source": [
    "# 원하는 요소 우클릭하여 XPath 복사하기\n",
    "\n",
    "## 이후 페이지까지 크롤링 하기\n",
    "## 지금은 페이지를 넘기려고 하는 거니까 페이지 버튼 요소의 XPath 확인!\n",
    "\n",
    "# href=\"javascript:void(0);\"\n",
    "## 이러한 규칙을 발견할 수 있다.\n",
    "# //*[@id=\"bestContentsWrap\"]/div[6]/div/div/div/a[2]\n",
    "# //*[@id=\"bestContentsWrap\"]/div[6]/div/div/div/a[3]\n",
    "\n",
    "import time\n",
    "\n",
    "for page in range(1, 4):\n",
    "    xpath = f'//*[@id=\"bestContentsWrap\"]/div[6]/div/div/div/a[{page}]'\n",
    "    print(xpath)\n",
    "    browser.find_element(By.XPATH, xpath).click()\n",
    "    # 너무 기계적인 움직임은 사이트측에서 차단할 수도 있다.\n",
    "    time.sleep(3)"
   ]
  },
  {
   "cell_type": "code",
   "execution_count": 66,
   "metadata": {},
   "outputs": [
    {
     "name": "stdout",
     "output_type": "stream",
     "text": [
      "불변의 법칙 | https://www.yes24.com/Product/Goods/124999476 | 모건 하우절 저/이수경 역 | 2024년 02월 | 22,500원 | 판매지수 424,284\n",
      "패밀리 레스토랑 가자. 上 | https://www.yes24.com/Product/Goods/125692983 | 와야마 야마 글그림/현승희 역 | 2024년 04월 | 7,650원 | 판매지수 134,376\n",
      "일류의 조건 | https://www.yes24.com/Product/Goods/125491624 | 사이토 다카시 저/정현 역 | 2024년 03월 | 17,820원 | 판매지수 161,994\n",
      "나를 소모하지 않는 현명한 태도에 관하여 | https://www.yes24.com/Product/Goods/125295101 | 마티아스 뇔케 저/이미옥 역 | 2024년 03월 | 16,020원 | 판매지수 167,601\n",
      "삼체 1~3 세트 | https://www.yes24.com/Product/Goods/90926731 | 류츠신 저/이현아, 허유영 역 | 2020년 07월 | 60,300원 | 판매지수 118,308\n",
      "나는 메트로폴리탄 미술관의 경비원입니다 | https://www.yes24.com/Product/Goods/123675187 | 패트릭 브링리 저/김희정, 조현주 역 | 2023년 11월 | 15,750원 | 판매지수 411,657\n",
      "알사탕 제조법 | https://www.yes24.com/Product/Goods/125558276 | 백희나 저 | 2024년 03월 | 9,000원 | 판매지수 129,576\n",
      "마흔에 읽는 쇼펜하우어 | https://www.yes24.com/Product/Goods/122120495 | 강용수 저 | 2023년 09월 | 15,300원 | 판매지수 859,296\n",
      "세이노의 가르침 | https://www.yes24.com/Product/Goods/117014613 | 세이노(SayNo) 저 | 2023년 03월 | 6,480원 | 판매지수 1,811,112\n",
      "이처럼 사소한 것들 | https://www.yes24.com/Product/Goods/123400303 | 클레어 키건 저/홍한별 역 | 2023년 11월 | 12,420원 | 판매지수 308,556\n",
      "ETS 토익 정기시험 기출문제집 1000 Vol. 4 RC | https://www.yes24.com/Product/Goods/124043812 | ETS 저 | 2023년 12월 | 17,820원 | 판매지수 314,172\n",
      "ETS 토익 정기시험 기출문제집 1000 Vol. 4 LC | https://www.yes24.com/Product/Goods/124043802 | ETS 저 | 2023년 12월 | 17,820원 | 판매지수 294,477\n",
      "찌그러져도 동그라미입니다 | https://www.yes24.com/Product/Goods/125384202 | 김창완 저 | 2024년 03월 | 16,020원 | 판매지수 87,339\n",
      "위풍당당 여우 꼬리 5 | https://www.yes24.com/Product/Goods/125691975 | 손원평 글/만물상 그림 | 2024년 03월 | 11,700원 | 판매지수 42,237\n",
      "공부가 설렘이 되는 순간 | https://www.yes24.com/Product/Goods/125075376 | 조승우 저 | 2024년 02월 | 16,920원 | 판매지수 121,854\n",
      "비트코인 폭발적 상승에 올라타라 | https://www.yes24.com/Product/Goods/125660642 | 강환국 저 | 2024년 04월 | 25,200원 | 판매지수 41,067\n",
      "돈의 심리학 (30만 부 기념 스페셜 에디션) | https://www.yes24.com/Product/Goods/96547408 | 모건 하우절 저/이지연 역 | 2021년 01월 | 17,820원 | 판매지수 210,219\n",
      "꽃길이 따로 있나, 내 삶이 꽃인 것을 | https://www.yes24.com/Product/Goods/125576919 | 오평선 저 | 2024년 03월 | 15,120원 | 판매지수 47,334\n",
      "깨진 틈이 있어야 그 사이로 빛이 들어온다 | https://www.yes24.com/Product/Goods/125184439 | 프리드리히 니체 저/김신종 역 | 2024년 03월 | 16,920원 | 판매지수 95,775\n",
      "열혈강호 90 | https://www.yes24.com/Product/Goods/125659619 | 전극진 글/양재현 그림 | 2024년 03월 | 4,950원 | 판매지수 53,010\n",
      "기적의 서울대 쌍둥이 공부법 | https://www.yes24.com/Product/Goods/125300689 | 여호원, 여호용 저 | 2024년 03월 | 17,100원 | 판매지수 124,608\n",
      "요즘 역사 : 근대 | https://www.yes24.com/Product/Goods/125456070 | 황현필 저 | 2024년 03월 | 16,200원 | 판매지수 81,009\n",
      "이은경쌤의 초등어휘일력 365 | https://www.yes24.com/Product/Goods/114853233 | 이은경 저 | 2022년 10월 | 16,920원 | 판매지수 262,758\n",
      "똑 부러지게 내 생각을 전하는 말하기 연습 | https://www.yes24.com/Product/Goods/125028521 | 임정민 글/히쩌미 그림 | 2024년 03월 | 12,870원 | 판매지수 115,398\n",
      "2024 큰별쌤 최태성의 별별한국사 한국사능력검정시험 심화(1,2,3급) 상 | https://www.yes24.com/Product/Goods/123930880 | 최태성 저 | 2023년 12월 | 14,400원 | 판매지수 231,933\n",
      "물질의 세계 | https://www.yes24.com/Product/Goods/125105639 | 에드 콘웨이 저/이종인 역 | 2024년 03월 | 26,820원 | 판매지수 92,295\n",
      "모순 | https://www.yes24.com/Product/Goods/8759796 | 양귀자 저 | 2013년 04월 | 11,700원 | 판매지수 249,747\n",
      "2024 제15회 젊은작가상 수상작품집 | https://www.yes24.com/Product/Goods/125709308 | 김멜라, 공현진, 김기태, 김남숙, 김지연 저 외 2명 정보 더 보기/감추기 | 2024년 03월 | 6,930원 | 판매지수 25,080\n",
      "일을 잘 맡기는 기술 | https://www.yes24.com/Product/Goods/125542915 | 모리야 도모타 저/정지영 역 | 2024년 03월 | 15,120원 | 판매지수 35,469\n",
      "혼자일 수 없다면 나아갈 수 없다 | https://www.yes24.com/Product/Goods/125285962 | 프리드리히 니체 저/김욱 편역 | 2024년 03월 | 15,750원 | 판매지수 63,054\n",
      "퓨처 셀프 | https://www.yes24.com/Product/Goods/122090360 | 벤저민 하디 저/최은아 역 | 2023년 08월 | 17,820원 | 판매지수 598,302\n",
      "도둑맞은 집중력 | https://www.yes24.com/Product/Goods/118579613 | 요한 하리 저/김하현 역 | 2023년 04월 | 16,920원 | 판매지수 583,365\n",
      "2024 큰별쌤 최태성의 별별한국사 한국사능력검정시험 심화(1,2,3급) 하 | https://www.yes24.com/Product/Goods/123930891 | 최태성 저 | 2023년 12월 | 13,950원 | 판매지수 215,172\n",
      "쇼펜하우어 인생수업 : 한 번뿐인 삶 이렇게 살아라 | https://www.yes24.com/Product/Goods/125085536 | 쇼펜하우어 저 / 김지민 편 | 2024년 02월 | 15,750원 | 판매지수 65,079\n",
      "처음부터 시작하는 주식투자 단타전략 | https://www.yes24.com/Product/Goods/124112599 | 홍인기 저 | 2023년 12월 | 18,900원 | 판매지수 205,821\n",
      "에그박사 12 | https://www.yes24.com/Product/Goods/125752452 | 에그박사 원저/박송이 글/홍종현 그림/김보숙 감수 | 2024년 03월 | 13,050원 | 판매지수 22,170\n",
      "무례한 친구가 생겼어요 | https://www.yes24.com/Product/Goods/124988172 | 크리스티나 퍼니발 글/케이티 드와이어 그림/이은경 역 | 2024년 02월 | 15,030원 | 판매지수 213,375\n",
      "아홉 살에 시작하는 똑똑한 초등신문 | https://www.yes24.com/Product/Goods/118413014 | 신효원 저 | 2023년 05월 | 15,750원 | 판매지수 343,608\n",
      "하루 한 장 나의 어휘력을 위한 필사 노트 | https://www.yes24.com/Product/Goods/125557465 | 유선경 저 | 2024년 03월 | 21,420원 | 판매지수 25,266\n",
      "타키 포오 얼렁뚱땅 상식스쿨 3 | https://www.yes24.com/Product/Goods/125665949 | 캐릭온TV 원저/김언정 글/조수현 그림/정효해 감수 | 2024년 03월 | 12,600원 | 판매지수 28,023\n",
      "프린세스 커넥트! Re:Dive 공식 아트웍스 Vol.1 | https://www.yes24.com/Product/Goods/125692713 | 전격게임서적편집부 저 | 2024년 04월 | 33,300원 | 판매지수 26,304\n",
      "나에게 들려주는 예쁜 말 | https://www.yes24.com/Product/Goods/124702605 | 김종원 글/나래 그림 | 2024년 02월 | 15,120원 | 판매지수 135,639\n",
      "코스모스 | https://www.yes24.com/Product/Goods/2312211 | 칼 에드워드 세이건 저/홍승수 역 | 2006년 12월 | 17,910원 | 판매지수 201,318\n",
      "벼랑 끝이지만 아직 떨어지진 않았어 | https://www.yes24.com/Product/Goods/125116528 | 소재원 저 | 2024년 03월 | 16,200원 | 판매지수 146,310\n",
      "시대예보: 핵개인의 시대 | https://www.yes24.com/Product/Goods/122457906 | 송길영 저 | 2023년 09월 | 18,900원 | 판매지수 255,915\n",
      "생각이 너무 많은 어른들을 위한 심리학 (10만부 돌파 기념 스페셜 에디션) | https://www.yes24.com/Product/Goods/122428190 | 김혜남 저 | 2023년 09월 | 16,020원 | 판매지수 251,505\n",
      "오십에 읽는 손자병법 | https://www.yes24.com/Product/Goods/125005921 | 최송목 저 | 2024년 02월 | 16,650원 | 판매지수 60,042\n",
      "과학혁명의 구조 | https://www.yes24.com/Product/Goods/11068788 | 토마스 쿤 저/김명자, 홍성욱 역 | 2013년 09월 | 16,200원 | 판매지수 31,383\n",
      "고층 입원실의 갱스터 할머니 | https://www.yes24.com/Product/Goods/125402980 | 양유진 저 | 2024년 03월 | 16,920원 | 판매지수 198,378\n",
      "당신의 인생이 왜 힘들지 않아야 한다고 생각하십니까 | https://www.yes24.com/Product/Goods/119562091 | 아르투어 쇼펜하우어 저/김욱 역 | 2023년 06월 | 15,750원 | 판매지수 308,121\n",
      "맡겨진 소녀 | https://www.yes24.com/Product/Goods/118569079 | 클레어 키건 저/허진 역 | 2023년 04월 | 11,700원 | 판매지수 138,966\n",
      "데일 카네기 인간관계론 (무삭제 완역본) | https://www.yes24.com/Product/Goods/79297023 | 데일 카네기 저/임상훈 역 | 2019년 10월 | 10,350원 | 판매지수 267,162\n",
      "벚꽃 수영장 | https://www.yes24.com/Product/Goods/125491330 | 신현경 글/노예지 그림 | 2024년 03월 | 15,120원 | 판매지수 40,770\n",
      "별의 커비 푸푸푸 히어로 3 | https://www.yes24.com/Product/Goods/125686298 | 아오키 케이&미카마루 글그림/김지영 역 | 2024년 03월 | 9,900원 | 판매지수 23,613\n",
      "물리박사 김상욱의 수상한 연구실 3 | https://www.yes24.com/Product/Goods/125660061 | 김하연 글/정순규 그림/김상욱 기획 | 2024년 03월 | 15,120원 | 판매지수 31,185\n",
      "10대를 위한 총균쇠 수업 | https://www.yes24.com/Product/Goods/121911671 | 김정진 저 | 2023년 08월 | 14,400원 | 판매지수 144,762\n",
      "마법천자문 62 | https://www.yes24.com/Product/Goods/125541718 | 스튜디오 훈훈 글/정수영 그림/강용철 감수 | 2024년 03월 | 14,220원 | 판매지수 65,217\n",
      "홍보의 신 | https://www.yes24.com/Product/Goods/124866628 | 김선태 저 | 2024년 02월 | 17,820원 | 판매지수 35,898\n",
      "흐르는 강물처럼 | https://www.yes24.com/Product/Goods/124425384 | 셸리 리드 저/김보람 역 | 2024년 01월 | 15,300원 | 판매지수 21,723\n",
      "뿐이 토핑 이유식 | https://www.yes24.com/Product/Goods/125183742 | 정주희 저/이수진 감수 | 2024년 03월 | 26,820원 | 판매지수 89,604\n",
      "꽃이 좋은 사람 | https://www.yes24.com/Product/Goods/125484022 | 에이미 메릭 저/송예슬 역 | 2024년 04월 | 27,000원 | 판매지수 12,090\n",
      "2024 에듀윌 공인중개사 오시훈 키워드 암기장 부동산공법 | https://www.yes24.com/Product/Goods/125453157 | 오시훈 저 | 2024년 03월 | 17,100원 | 판매지수 92,499\n",
      "내 아이를 위한 사교육은 없다 | https://www.yes24.com/Product/Goods/125393193 | 김현주 저 | 2024년 03월 | 16,200원 | 판매지수 46,758\n",
      "해커스 토익 기출 VOCA (보카) | https://www.yes24.com/Product/Goods/67362730 | David Cho 저 | 2023년 07월 | 11,610원 | 판매지수 319,959\n",
      "차트 분석 바이블 | https://www.yes24.com/Product/Goods/125692904 | 치과아저씨 저 | 2024년 04월 | 45,000원 | 판매지수 25,956\n",
      "나는 3학년 2반 7번 애벌레 | https://www.yes24.com/Product/Goods/25283908 | 김원아 글/이주희 그림 | 2016년 03월 | 8,100원 | 판매지수 199,566\n",
      "채사장의 지대넓얕 9 : 세계의 탄생 | https://www.yes24.com/Product/Goods/125326409 | 채사장, 마케마케 글/정용환 그림 | 2024년 03월 | 13,500원 | 판매지수 63,498\n",
      "만화 나 혼자만 레벨업 10 | https://www.yes24.com/Product/Goods/125648423 | 추공 원저/장성락(REDICE STUDIO) 글그림 | 2024년 04월 | 14,400원 | 판매지수 30,546\n",
      "아이는 무엇으로 자라는가 | https://www.yes24.com/Product/Goods/124702623 | 버지니아 사티어 저/강유리 역 | 2023년 12월 | 15,750원 | 판매지수 159,345\n",
      "나는 나의 스무 살을 가장 존중한다 | https://www.yes24.com/Product/Goods/124926484 | 이하영 저 | 2024년 02월 | 16,200원 | 판매지수 104,088\n",
      "국어 잘하는 아이가 이깁니다 | https://www.yes24.com/Product/Goods/125384743 | 나민애 저 | 2024년 03월 | 15,750원 | 판매지수 57,339\n",
      "내가 모르는 사이에 | https://www.yes24.com/Product/Goods/102281750 | 김화요 글/오윤화 그림 | 2021년 06월 | 9,000원 | 판매지수 74,949\n"
     ]
    },
    {
     "ename": "ValueError",
     "evalue": "No engine for filetype: 'excel'",
     "output_type": "error",
     "traceback": [
      "\u001b[0;31m---------------------------------------------------------------------------\u001b[0m",
      "\u001b[0;31mOptionError\u001b[0m                               Traceback (most recent call last)",
      "File \u001b[0;32m/opt/anaconda3/lib/python3.11/site-packages/pandas/io/excel/_base.py:1153\u001b[0m, in \u001b[0;36mExcelWriter.__new__\u001b[0;34m(cls, path, engine, date_format, datetime_format, mode, storage_options, if_sheet_exists, engine_kwargs)\u001b[0m\n\u001b[1;32m   1152\u001b[0m \u001b[38;5;28;01mtry\u001b[39;00m:\n\u001b[0;32m-> 1153\u001b[0m     engine \u001b[38;5;241m=\u001b[39m config\u001b[38;5;241m.\u001b[39mget_option(\u001b[38;5;124mf\u001b[39m\u001b[38;5;124m\"\u001b[39m\u001b[38;5;124mio.excel.\u001b[39m\u001b[38;5;132;01m{\u001b[39;00mext\u001b[38;5;132;01m}\u001b[39;00m\u001b[38;5;124m.writer\u001b[39m\u001b[38;5;124m\"\u001b[39m, silent\u001b[38;5;241m=\u001b[39m\u001b[38;5;28;01mTrue\u001b[39;00m)\n\u001b[1;32m   1154\u001b[0m     \u001b[38;5;28;01mif\u001b[39;00m engine \u001b[38;5;241m==\u001b[39m \u001b[38;5;124m\"\u001b[39m\u001b[38;5;124mauto\u001b[39m\u001b[38;5;124m\"\u001b[39m:\n",
      "File \u001b[0;32m/opt/anaconda3/lib/python3.11/site-packages/pandas/_config/config.py:272\u001b[0m, in \u001b[0;36mCallableDynamicDoc.__call__\u001b[0;34m(self, *args, **kwds)\u001b[0m\n\u001b[1;32m    271\u001b[0m \u001b[38;5;28;01mdef\u001b[39;00m \u001b[38;5;21m__call__\u001b[39m(\u001b[38;5;28mself\u001b[39m, \u001b[38;5;241m*\u001b[39margs, \u001b[38;5;241m*\u001b[39m\u001b[38;5;241m*\u001b[39mkwds) \u001b[38;5;241m-\u001b[39m\u001b[38;5;241m>\u001b[39m T:\n\u001b[0;32m--> 272\u001b[0m     \u001b[38;5;28;01mreturn\u001b[39;00m \u001b[38;5;28mself\u001b[39m\u001b[38;5;241m.\u001b[39m\u001b[38;5;18m__func__\u001b[39m(\u001b[38;5;241m*\u001b[39margs, \u001b[38;5;241m*\u001b[39m\u001b[38;5;241m*\u001b[39mkwds)\n",
      "File \u001b[0;32m/opt/anaconda3/lib/python3.11/site-packages/pandas/_config/config.py:146\u001b[0m, in \u001b[0;36m_get_option\u001b[0;34m(pat, silent)\u001b[0m\n\u001b[1;32m    145\u001b[0m \u001b[38;5;28;01mdef\u001b[39;00m \u001b[38;5;21m_get_option\u001b[39m(pat: \u001b[38;5;28mstr\u001b[39m, silent: \u001b[38;5;28mbool\u001b[39m \u001b[38;5;241m=\u001b[39m \u001b[38;5;28;01mFalse\u001b[39;00m) \u001b[38;5;241m-\u001b[39m\u001b[38;5;241m>\u001b[39m Any:\n\u001b[0;32m--> 146\u001b[0m     key \u001b[38;5;241m=\u001b[39m _get_single_key(pat, silent)\n\u001b[1;32m    148\u001b[0m     \u001b[38;5;66;03m# walk the nested dict\u001b[39;00m\n",
      "File \u001b[0;32m/opt/anaconda3/lib/python3.11/site-packages/pandas/_config/config.py:132\u001b[0m, in \u001b[0;36m_get_single_key\u001b[0;34m(pat, silent)\u001b[0m\n\u001b[1;32m    131\u001b[0m         _warn_if_deprecated(pat)\n\u001b[0;32m--> 132\u001b[0m     \u001b[38;5;28;01mraise\u001b[39;00m OptionError(\u001b[38;5;124mf\u001b[39m\u001b[38;5;124m\"\u001b[39m\u001b[38;5;124mNo such keys(s): \u001b[39m\u001b[38;5;132;01m{\u001b[39;00m\u001b[38;5;28mrepr\u001b[39m(pat)\u001b[38;5;132;01m}\u001b[39;00m\u001b[38;5;124m\"\u001b[39m)\n\u001b[1;32m    133\u001b[0m \u001b[38;5;28;01mif\u001b[39;00m \u001b[38;5;28mlen\u001b[39m(keys) \u001b[38;5;241m>\u001b[39m \u001b[38;5;241m1\u001b[39m:\n",
      "\u001b[0;31mOptionError\u001b[0m: No such keys(s): 'io.excel.excel.writer'",
      "\nThe above exception was the direct cause of the following exception:\n",
      "\u001b[0;31mValueError\u001b[0m                                Traceback (most recent call last)",
      "Cell \u001b[0;32mIn[66], line 39\u001b[0m\n\u001b[1;32m     37\u001b[0m df \u001b[38;5;241m=\u001b[39m pd\u001b[38;5;241m.\u001b[39mDataFrame(data_list)\n\u001b[1;32m     38\u001b[0m df\u001b[38;5;241m.\u001b[39mto_csv(\u001b[38;5;124m'\u001b[39m\u001b[38;5;124myes24_best_seller.csv\u001b[39m\u001b[38;5;124m'\u001b[39m)\n\u001b[0;32m---> 39\u001b[0m df\u001b[38;5;241m.\u001b[39mto_excel(\u001b[38;5;124m'\u001b[39m\u001b[38;5;124myes24_best_seller.excel\u001b[39m\u001b[38;5;124m'\u001b[39m)\n",
      "File \u001b[0;32m/opt/anaconda3/lib/python3.11/site-packages/pandas/core/generic.py:2345\u001b[0m, in \u001b[0;36mNDFrame.to_excel\u001b[0;34m(self, excel_writer, sheet_name, na_rep, float_format, columns, header, index, index_label, startrow, startcol, engine, merge_cells, inf_rep, freeze_panes, storage_options, engine_kwargs)\u001b[0m\n\u001b[1;32m   2332\u001b[0m \u001b[38;5;28;01mfrom\u001b[39;00m \u001b[38;5;21;01mpandas\u001b[39;00m\u001b[38;5;21;01m.\u001b[39;00m\u001b[38;5;21;01mio\u001b[39;00m\u001b[38;5;21;01m.\u001b[39;00m\u001b[38;5;21;01mformats\u001b[39;00m\u001b[38;5;21;01m.\u001b[39;00m\u001b[38;5;21;01mexcel\u001b[39;00m \u001b[38;5;28;01mimport\u001b[39;00m ExcelFormatter\n\u001b[1;32m   2334\u001b[0m formatter \u001b[38;5;241m=\u001b[39m ExcelFormatter(\n\u001b[1;32m   2335\u001b[0m     df,\n\u001b[1;32m   2336\u001b[0m     na_rep\u001b[38;5;241m=\u001b[39mna_rep,\n\u001b[0;32m   (...)\u001b[0m\n\u001b[1;32m   2343\u001b[0m     inf_rep\u001b[38;5;241m=\u001b[39minf_rep,\n\u001b[1;32m   2344\u001b[0m )\n\u001b[0;32m-> 2345\u001b[0m formatter\u001b[38;5;241m.\u001b[39mwrite(\n\u001b[1;32m   2346\u001b[0m     excel_writer,\n\u001b[1;32m   2347\u001b[0m     sheet_name\u001b[38;5;241m=\u001b[39msheet_name,\n\u001b[1;32m   2348\u001b[0m     startrow\u001b[38;5;241m=\u001b[39mstartrow,\n\u001b[1;32m   2349\u001b[0m     startcol\u001b[38;5;241m=\u001b[39mstartcol,\n\u001b[1;32m   2350\u001b[0m     freeze_panes\u001b[38;5;241m=\u001b[39mfreeze_panes,\n\u001b[1;32m   2351\u001b[0m     engine\u001b[38;5;241m=\u001b[39mengine,\n\u001b[1;32m   2352\u001b[0m     storage_options\u001b[38;5;241m=\u001b[39mstorage_options,\n\u001b[1;32m   2353\u001b[0m     engine_kwargs\u001b[38;5;241m=\u001b[39mengine_kwargs,\n\u001b[1;32m   2354\u001b[0m )\n",
      "File \u001b[0;32m/opt/anaconda3/lib/python3.11/site-packages/pandas/io/formats/excel.py:946\u001b[0m, in \u001b[0;36mExcelFormatter.write\u001b[0;34m(self, writer, sheet_name, startrow, startcol, freeze_panes, engine, storage_options, engine_kwargs)\u001b[0m\n\u001b[1;32m    942\u001b[0m     need_save \u001b[38;5;241m=\u001b[39m \u001b[38;5;28;01mFalse\u001b[39;00m\n\u001b[1;32m    943\u001b[0m \u001b[38;5;28;01melse\u001b[39;00m:\n\u001b[1;32m    944\u001b[0m     \u001b[38;5;66;03m# error: Cannot instantiate abstract class 'ExcelWriter' with abstract\u001b[39;00m\n\u001b[1;32m    945\u001b[0m     \u001b[38;5;66;03m# attributes 'engine', 'save', 'supported_extensions' and 'write_cells'\u001b[39;00m\n\u001b[0;32m--> 946\u001b[0m     writer \u001b[38;5;241m=\u001b[39m ExcelWriter(  \u001b[38;5;66;03m# type: ignore[abstract]\u001b[39;00m\n\u001b[1;32m    947\u001b[0m         writer,\n\u001b[1;32m    948\u001b[0m         engine\u001b[38;5;241m=\u001b[39mengine,\n\u001b[1;32m    949\u001b[0m         storage_options\u001b[38;5;241m=\u001b[39mstorage_options,\n\u001b[1;32m    950\u001b[0m         engine_kwargs\u001b[38;5;241m=\u001b[39mengine_kwargs,\n\u001b[1;32m    951\u001b[0m     )\n\u001b[1;32m    952\u001b[0m     need_save \u001b[38;5;241m=\u001b[39m \u001b[38;5;28;01mTrue\u001b[39;00m\n\u001b[1;32m    954\u001b[0m \u001b[38;5;28;01mtry\u001b[39;00m:\n",
      "File \u001b[0;32m/opt/anaconda3/lib/python3.11/site-packages/pandas/io/excel/_base.py:1157\u001b[0m, in \u001b[0;36mExcelWriter.__new__\u001b[0;34m(cls, path, engine, date_format, datetime_format, mode, storage_options, if_sheet_exists, engine_kwargs)\u001b[0m\n\u001b[1;32m   1155\u001b[0m             engine \u001b[38;5;241m=\u001b[39m get_default_engine(ext, mode\u001b[38;5;241m=\u001b[39m\u001b[38;5;124m\"\u001b[39m\u001b[38;5;124mwriter\u001b[39m\u001b[38;5;124m\"\u001b[39m)\n\u001b[1;32m   1156\u001b[0m     \u001b[38;5;28;01mexcept\u001b[39;00m \u001b[38;5;167;01mKeyError\u001b[39;00m \u001b[38;5;28;01mas\u001b[39;00m err:\n\u001b[0;32m-> 1157\u001b[0m         \u001b[38;5;28;01mraise\u001b[39;00m \u001b[38;5;167;01mValueError\u001b[39;00m(\u001b[38;5;124mf\u001b[39m\u001b[38;5;124m\"\u001b[39m\u001b[38;5;124mNo engine for filetype: \u001b[39m\u001b[38;5;124m'\u001b[39m\u001b[38;5;132;01m{\u001b[39;00mext\u001b[38;5;132;01m}\u001b[39;00m\u001b[38;5;124m'\u001b[39m\u001b[38;5;124m\"\u001b[39m) \u001b[38;5;28;01mfrom\u001b[39;00m \u001b[38;5;21;01merr\u001b[39;00m\n\u001b[1;32m   1159\u001b[0m \u001b[38;5;66;03m# for mypy\u001b[39;00m\n\u001b[1;32m   1160\u001b[0m \u001b[38;5;28;01massert\u001b[39;00m engine \u001b[38;5;129;01mis\u001b[39;00m \u001b[38;5;129;01mnot\u001b[39;00m \u001b[38;5;28;01mNone\u001b[39;00m\n",
      "\u001b[0;31mValueError\u001b[0m: No engine for filetype: 'excel'"
     ]
    }
   ],
   "source": [
    "## url에서 pageNum, pageSize를 활용해보자.\n",
    "\n",
    "import pandas as pd\n",
    "\n",
    "data_list = []\n",
    "\n",
    "for page in range(1,4):\n",
    "    page_url = f'https://www.yes24.com/Product/Category/BestSeller?categoryNumber=001&pageNumber={page}'\n",
    "    browser.get(page_url)\n",
    "    time.sleep(3)\n",
    "\n",
    "    parent = browser.find_element(By.ID, 'yesBestList')\n",
    "    book_list = parent.find_elements(By.CLASS_NAME, 'item_info')\n",
    "    len(book_list)\n",
    "    \n",
    "    for book in book_list:\n",
    "        title = book.find_element(By.CLASS_NAME, 'gd_name').text\n",
    "        link = book.find_element(By.CLASS_NAME, 'gd_name').get_attribute('href')\n",
    "        author = book.find_element(By.CLASS_NAME, 'info_auth').text\n",
    "        pub_date = book.find_element(By.CLASS_NAME, 'info_date').text\n",
    "        price = book.find_element(By.CLASS_NAME, 'txt_num').text\n",
    "        sold = book.find_element(By.CLASS_NAME, 'saleNum').text\n",
    "        # TODO: rate가 좀 이상혀....\n",
    "        # rate = book.find_element(By.TAG_NAME, 'em').text\n",
    "        # print(title, '|', link, '|', author, '|', pub_date, '|', price, '|', sold, '|', rate)\n",
    "        print(title, '|', link, '|', author, '|', pub_date, '|', price, '|', sold)\n",
    "\n",
    "        data_list.append({\n",
    "            '제목': title,\n",
    "            '링크': link,\n",
    "            '저자': author,\n",
    "            '출판일': pub_date,\n",
    "            '가격': price,\n",
    "            '판매지수': sold\n",
    "        })\n",
    "\n",
    "df = pd.DataFrame(data_list)\n",
    "df.to_csv('yes24_best_seller.csv')\n",
    "## TODO: 엑셀로 output 만들기"
   ]
  }
 ],
 "metadata": {
  "kernelspec": {
   "display_name": "base",
   "language": "python",
   "name": "python3"
  },
  "language_info": {
   "codemirror_mode": {
    "name": "ipython",
    "version": 3
   },
   "file_extension": ".py",
   "mimetype": "text/x-python",
   "name": "python",
   "nbconvert_exporter": "python",
   "pygments_lexer": "ipython3",
   "version": "3.11.7"
  }
 },
 "nbformat": 4,
 "nbformat_minor": 2
}
