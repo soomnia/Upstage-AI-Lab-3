{
 "cells": [
  {
   "cell_type": "markdown",
   "metadata": {},
   "source": [
    "## SRT 예매 가능 여부 확인\n",
    "1. 페이지 로그인\n",
    "2. 원하는 도착지 입력\n",
    "3. 원하는 시간대 선택\n",
    "4. 원하는 기차가 매진일 때, 예매가 뜰 때까지 n번 조회\n",
    "5. 예매 가능하면 예매 클릭"
   ]
  },
  {
   "cell_type": "code",
   "execution_count": 60,
   "metadata": {},
   "outputs": [],
   "source": [
    "from selenium import webdriver\n",
    "from selenium.webdriver.common.by import By\n",
    "browser = webdriver.Chrome()"
   ]
  },
  {
   "cell_type": "code",
   "execution_count": 61,
   "metadata": {},
   "outputs": [],
   "source": [
    "## 로그인 페이지\n",
    "url = 'https://etk.srail.kr/cmc/01/selectLoginForm.do?pageId=TK0701000000'\n",
    "\n",
    "## 로그인 페이지로 이동\n",
    "browser.get(url)\n",
    "\n",
    "## 로그인하기\n",
    "browser.find_element(By.ID, 'srchDvNm01').send_keys(\"회원번호\")\n",
    "browser.find_element(By.ID, 'hmpgPwdCphd01').send_keys(\"비밀번호\")\n",
    "browser.find_element(By.CLASS_NAME, 'loginSubmit').click()\n",
    "## 핸드폰 번호 선택하기\n",
    "# browser.find_element(By.ID, 'srchDvCd3').click()\n",
    "# browser.find_element(By.ID, 'srchDvNm03').send_keys(\"전화번호\")\n",
    "# browser.find_element(By.ID, 'hmpgPwdCphd03').send_keys(\"비밀번호\")\n",
    "# browser.find_element(By.XPATH, '//*[@id=\"login-form\"]/fieldset/div[1]/div[1]/div[4]/div/div[2]/input').click()"
   ]
  },
  {
   "cell_type": "code",
   "execution_count": 62,
   "metadata": {},
   "outputs": [],
   "source": [
    "## 예약 페이지로 이동\n",
    "reserve_url = 'https://etk.srail.kr/hpg/hra/01/selectScheduleList.do?pageId=TK0101010000'\n",
    "browser.get(reserve_url)"
   ]
  },
  {
   "cell_type": "code",
   "execution_count": 76,
   "metadata": {},
   "outputs": [],
   "source": [
    "## 출발, 도착 도시 선택\n",
    "browser.find_element(By.ID, 'arvRsStnCdNm').clear()\n",
    "browser.find_element(By.ID, 'arvRsStnCdNm').send_keys('동대구')\n",
    "\n",
    "## 시간 선택\n",
    "browser.find_element(By.XPATH, '//*[@id=\"dptTm\"]/option[11]').click()"
   ]
  },
  {
   "cell_type": "code",
   "execution_count": 77,
   "metadata": {},
   "outputs": [],
   "source": [
    "browser.find_element(By.XPATH, '//*[@id=\"search_top_tag\"]/input').click()"
   ]
  },
  {
   "cell_type": "code",
   "execution_count": 65,
   "metadata": {},
   "outputs": [
    {
     "ename": "NoSuchElementException",
     "evalue": "Message: no such element: Unable to locate element: {\"method\":\"xpath\",\"selector\":\"//*[@id=\"result-form\"]/fieldset/div[6]/table/tbody/tr[1]/td[7]/a\"}\n  (Session info: chrome=117.0.5938.149); For documentation on this error, please visit: https://www.selenium.dev/documentation/webdriver/troubleshooting/errors#no-such-element-exception\nStacktrace:\n0   chromedriver                        0x00000001032ded68 chromedriver + 4337000\n1   chromedriver                        0x00000001032d6de4 chromedriver + 4304356\n2   chromedriver                        0x0000000102f03a5c chromedriver + 293468\n3   chromedriver                        0x0000000102f48d50 chromedriver + 576848\n4   chromedriver                        0x0000000102f83908 chromedriver + 817416\n5   chromedriver                        0x0000000102f3ca5c chromedriver + 526940\n6   chromedriver                        0x0000000102f3d908 chromedriver + 530696\n7   chromedriver                        0x00000001032a4db4 chromedriver + 4099508\n8   chromedriver                        0x00000001032a9270 chromedriver + 4117104\n9   chromedriver                        0x00000001032af4fc chromedriver + 4142332\n10  chromedriver                        0x00000001032a9d70 chromedriver + 4119920\n11  chromedriver                        0x0000000103281a44 chromedriver + 3955268\n12  chromedriver                        0x00000001032c6a18 chromedriver + 4237848\n13  chromedriver                        0x00000001032c6b94 chromedriver + 4238228\n14  chromedriver                        0x00000001032d6a5c chromedriver + 4303452\n15  libsystem_pthread.dylib             0x0000000189842034 _pthread_start + 136\n16  libsystem_pthread.dylib             0x000000018983ce3c thread_start + 8\n",
     "output_type": "error",
     "traceback": [
      "\u001b[0;31m---------------------------------------------------------------------------\u001b[0m",
      "\u001b[0;31mNoSuchElementException\u001b[0m                    Traceback (most recent call last)",
      "Cell \u001b[0;32mIn[65], line 5\u001b[0m\n\u001b[1;32m      2\u001b[0m \u001b[38;5;28;01mimport\u001b[39;00m \u001b[38;5;21;01mtime\u001b[39;00m\n\u001b[1;32m      4\u001b[0m \u001b[38;5;28;01mfor\u001b[39;00m i \u001b[38;5;129;01min\u001b[39;00m \u001b[38;5;28mrange\u001b[39m(\u001b[38;5;241m5\u001b[39m):\n\u001b[0;32m----> 5\u001b[0m     is_solddout \u001b[38;5;241m=\u001b[39m browser\u001b[38;5;241m.\u001b[39mfind_element(By\u001b[38;5;241m.\u001b[39mXPATH, \u001b[38;5;124m'\u001b[39m\u001b[38;5;124m//*[@id=\u001b[39m\u001b[38;5;124m\"\u001b[39m\u001b[38;5;124mresult-form\u001b[39m\u001b[38;5;124m\"\u001b[39m\u001b[38;5;124m]/fieldset/div[6]/table/tbody/tr[1]/td[7]/a\u001b[39m\u001b[38;5;124m'\u001b[39m)\u001b[38;5;241m.\u001b[39mtext\n\u001b[1;32m      6\u001b[0m     \u001b[38;5;28mprint\u001b[39m(\u001b[38;5;124mf\u001b[39m\u001b[38;5;124m'\u001b[39m\u001b[38;5;132;01m{\u001b[39;00mis_solddout\u001b[38;5;132;01m}\u001b[39;00m\u001b[38;5;124m - \u001b[39m\u001b[38;5;132;01m{\u001b[39;00mi\u001b[38;5;132;01m}\u001b[39;00m\u001b[38;5;124m번째 시도 중입니다!\u001b[39m\u001b[38;5;124m'\u001b[39m)\n\u001b[1;32m      7\u001b[0m     \u001b[38;5;28;01mif\u001b[39;00m is_solddout \u001b[38;5;241m==\u001b[39m \u001b[38;5;124m'\u001b[39m\u001b[38;5;124m매진\u001b[39m\u001b[38;5;124m'\u001b[39m:\n",
      "File \u001b[0;32m/opt/anaconda3/lib/python3.11/site-packages/selenium/webdriver/remote/webdriver.py:741\u001b[0m, in \u001b[0;36mWebDriver.find_element\u001b[0;34m(self, by, value)\u001b[0m\n\u001b[1;32m    738\u001b[0m     by \u001b[38;5;241m=\u001b[39m By\u001b[38;5;241m.\u001b[39mCSS_SELECTOR\n\u001b[1;32m    739\u001b[0m     value \u001b[38;5;241m=\u001b[39m \u001b[38;5;124mf\u001b[39m\u001b[38;5;124m'\u001b[39m\u001b[38;5;124m[name=\u001b[39m\u001b[38;5;124m\"\u001b[39m\u001b[38;5;132;01m{\u001b[39;00mvalue\u001b[38;5;132;01m}\u001b[39;00m\u001b[38;5;124m\"\u001b[39m\u001b[38;5;124m]\u001b[39m\u001b[38;5;124m'\u001b[39m\n\u001b[0;32m--> 741\u001b[0m \u001b[38;5;28;01mreturn\u001b[39;00m \u001b[38;5;28mself\u001b[39m\u001b[38;5;241m.\u001b[39mexecute(Command\u001b[38;5;241m.\u001b[39mFIND_ELEMENT, {\u001b[38;5;124m\"\u001b[39m\u001b[38;5;124musing\u001b[39m\u001b[38;5;124m\"\u001b[39m: by, \u001b[38;5;124m\"\u001b[39m\u001b[38;5;124mvalue\u001b[39m\u001b[38;5;124m\"\u001b[39m: value})[\u001b[38;5;124m\"\u001b[39m\u001b[38;5;124mvalue\u001b[39m\u001b[38;5;124m\"\u001b[39m]\n",
      "File \u001b[0;32m/opt/anaconda3/lib/python3.11/site-packages/selenium/webdriver/remote/webdriver.py:347\u001b[0m, in \u001b[0;36mWebDriver.execute\u001b[0;34m(self, driver_command, params)\u001b[0m\n\u001b[1;32m    345\u001b[0m response \u001b[38;5;241m=\u001b[39m \u001b[38;5;28mself\u001b[39m\u001b[38;5;241m.\u001b[39mcommand_executor\u001b[38;5;241m.\u001b[39mexecute(driver_command, params)\n\u001b[1;32m    346\u001b[0m \u001b[38;5;28;01mif\u001b[39;00m response:\n\u001b[0;32m--> 347\u001b[0m     \u001b[38;5;28mself\u001b[39m\u001b[38;5;241m.\u001b[39merror_handler\u001b[38;5;241m.\u001b[39mcheck_response(response)\n\u001b[1;32m    348\u001b[0m     response[\u001b[38;5;124m\"\u001b[39m\u001b[38;5;124mvalue\u001b[39m\u001b[38;5;124m\"\u001b[39m] \u001b[38;5;241m=\u001b[39m \u001b[38;5;28mself\u001b[39m\u001b[38;5;241m.\u001b[39m_unwrap_value(response\u001b[38;5;241m.\u001b[39mget(\u001b[38;5;124m\"\u001b[39m\u001b[38;5;124mvalue\u001b[39m\u001b[38;5;124m\"\u001b[39m, \u001b[38;5;28;01mNone\u001b[39;00m))\n\u001b[1;32m    349\u001b[0m     \u001b[38;5;28;01mreturn\u001b[39;00m response\n",
      "File \u001b[0;32m/opt/anaconda3/lib/python3.11/site-packages/selenium/webdriver/remote/errorhandler.py:229\u001b[0m, in \u001b[0;36mErrorHandler.check_response\u001b[0;34m(self, response)\u001b[0m\n\u001b[1;32m    227\u001b[0m         alert_text \u001b[38;5;241m=\u001b[39m value[\u001b[38;5;124m\"\u001b[39m\u001b[38;5;124malert\u001b[39m\u001b[38;5;124m\"\u001b[39m]\u001b[38;5;241m.\u001b[39mget(\u001b[38;5;124m\"\u001b[39m\u001b[38;5;124mtext\u001b[39m\u001b[38;5;124m\"\u001b[39m)\n\u001b[1;32m    228\u001b[0m     \u001b[38;5;28;01mraise\u001b[39;00m exception_class(message, screen, stacktrace, alert_text)  \u001b[38;5;66;03m# type: ignore[call-arg]  # mypy is not smart enough here\u001b[39;00m\n\u001b[0;32m--> 229\u001b[0m \u001b[38;5;28;01mraise\u001b[39;00m exception_class(message, screen, stacktrace)\n",
      "\u001b[0;31mNoSuchElementException\u001b[0m: Message: no such element: Unable to locate element: {\"method\":\"xpath\",\"selector\":\"//*[@id=\"result-form\"]/fieldset/div[6]/table/tbody/tr[1]/td[7]/a\"}\n  (Session info: chrome=117.0.5938.149); For documentation on this error, please visit: https://www.selenium.dev/documentation/webdriver/troubleshooting/errors#no-such-element-exception\nStacktrace:\n0   chromedriver                        0x00000001032ded68 chromedriver + 4337000\n1   chromedriver                        0x00000001032d6de4 chromedriver + 4304356\n2   chromedriver                        0x0000000102f03a5c chromedriver + 293468\n3   chromedriver                        0x0000000102f48d50 chromedriver + 576848\n4   chromedriver                        0x0000000102f83908 chromedriver + 817416\n5   chromedriver                        0x0000000102f3ca5c chromedriver + 526940\n6   chromedriver                        0x0000000102f3d908 chromedriver + 530696\n7   chromedriver                        0x00000001032a4db4 chromedriver + 4099508\n8   chromedriver                        0x00000001032a9270 chromedriver + 4117104\n9   chromedriver                        0x00000001032af4fc chromedriver + 4142332\n10  chromedriver                        0x00000001032a9d70 chromedriver + 4119920\n11  chromedriver                        0x0000000103281a44 chromedriver + 3955268\n12  chromedriver                        0x00000001032c6a18 chromedriver + 4237848\n13  chromedriver                        0x00000001032c6b94 chromedriver + 4238228\n14  chromedriver                        0x00000001032d6a5c chromedriver + 4303452\n15  libsystem_pthread.dylib             0x0000000189842034 _pthread_start + 136\n16  libsystem_pthread.dylib             0x000000018983ce3c thread_start + 8\n"
     ]
    }
   ],
   "source": [
    "# ## 조회 버튼 클릭\n",
    "# import time\n",
    "\n",
    "# for i in range(5):\n",
    "#     is_solddout = browser.find_element(By.XPATH, '//*[@id=\"result-form\"]/fieldset/div[6]/table/tbody/tr[1]/td[7]/a').text\n",
    "#     print(f'{is_solddout} - {i}번째 시도 중입니다!')\n",
    "#     if is_solddout == '매진':\n",
    "#         browser.refresh()\n",
    "#         time.sleep(1)\n",
    "#     else:\n",
    "#         browser.find_element(By.XPATH, '//*[@id=\"result-form\"]/fieldset/div[6]/table/tbody/tr[1]/td[7]/a').click()\n"
   ]
  },
  {
   "cell_type": "code",
   "execution_count": 78,
   "metadata": {},
   "outputs": [
    {
     "name": "stdout",
     "output_type": "stream",
     "text": [
      "<selenium.webdriver.remote.webelement.WebElement (session=\"eb5bf9324e5c760114a1c69107033b95\", element=\"30CF06F6987F38EB5B8287DFCEEC9800_element_375\")>\n",
      "매진\n",
      "매진 - 0번째 시도 중입니다!\n",
      "<selenium.webdriver.remote.webelement.WebElement (session=\"eb5bf9324e5c760114a1c69107033b95\", element=\"E052DDAAF4CC7433B47CB56B12E8670A_element_383\")>\n",
      "매진\n",
      "매진 - 1번째 시도 중입니다!\n",
      "<selenium.webdriver.remote.webelement.WebElement (session=\"eb5bf9324e5c760114a1c69107033b95\", element=\"BE6D836B514A9B1AF2AA19E7C1BB9CA7_element_391\")>\n",
      "매진\n",
      "매진 - 2번째 시도 중입니다!\n",
      "<selenium.webdriver.remote.webelement.WebElement (session=\"eb5bf9324e5c760114a1c69107033b95\", element=\"C542586656AB8044C3FBD5F4887303E6_element_399\")>\n",
      "매진\n",
      "매진 - 3번째 시도 중입니다!\n",
      "<selenium.webdriver.remote.webelement.WebElement (session=\"eb5bf9324e5c760114a1c69107033b95\", element=\"E1894944EA113843FE991BC5CE80A430_element_407\")>\n",
      "매진\n",
      "매진 - 4번째 시도 중입니다!\n",
      "<selenium.webdriver.remote.webelement.WebElement (session=\"eb5bf9324e5c760114a1c69107033b95\", element=\"D70C7206757BBA838D48CF72F380222A_element_415\")>\n",
      "매진\n",
      "매진 - 5번째 시도 중입니다!\n",
      "<selenium.webdriver.remote.webelement.WebElement (session=\"eb5bf9324e5c760114a1c69107033b95\", element=\"9493FBC8CD8575B29FA470AC910A3085_element_423\")>\n",
      "매진\n",
      "매진 - 6번째 시도 중입니다!\n",
      "<selenium.webdriver.remote.webelement.WebElement (session=\"eb5bf9324e5c760114a1c69107033b95\", element=\"6BFFEC76B55332BD6BFEB0875E87D2B9_element_431\")>\n",
      "매진\n",
      "매진 - 7번째 시도 중입니다!\n",
      "<selenium.webdriver.remote.webelement.WebElement (session=\"eb5bf9324e5c760114a1c69107033b95\", element=\"9DC56421D0B09B704E4B3C20881C306D_element_439\")>\n",
      "매진\n",
      "매진 - 8번째 시도 중입니다!\n",
      "<selenium.webdriver.remote.webelement.WebElement (session=\"eb5bf9324e5c760114a1c69107033b95\", element=\"29BB4A6317F33281E4F9063BE362D524_element_447\")>\n",
      "매진\n",
      "매진 - 9번째 시도 중입니다!\n",
      "<selenium.webdriver.remote.webelement.WebElement (session=\"eb5bf9324e5c760114a1c69107033b95\", element=\"326D02303FAD9347293186E02BA5DB2E_element_455\")>\n",
      "매진\n",
      "매진 - 10번째 시도 중입니다!\n",
      "<selenium.webdriver.remote.webelement.WebElement (session=\"eb5bf9324e5c760114a1c69107033b95\", element=\"BB63487B0483B139EA35DAD562102648_element_463\")>\n",
      "매진\n",
      "매진 - 11번째 시도 중입니다!\n",
      "<selenium.webdriver.remote.webelement.WebElement (session=\"eb5bf9324e5c760114a1c69107033b95\", element=\"06891A0E03FAC3DE38E8FB6A054A91C7_element_471\")>\n",
      "매진\n",
      "매진 - 12번째 시도 중입니다!\n",
      "<selenium.webdriver.remote.webelement.WebElement (session=\"eb5bf9324e5c760114a1c69107033b95\", element=\"42F80F53A1338865B4ACDE314C8909AC_element_479\")>\n",
      "매진\n",
      "매진 - 13번째 시도 중입니다!\n",
      "<selenium.webdriver.remote.webelement.WebElement (session=\"eb5bf9324e5c760114a1c69107033b95\", element=\"B76A51DAB9CA0B051E310DD8076C1D8B_element_487\")>\n",
      "매진\n",
      "매진 - 14번째 시도 중입니다!\n",
      "<selenium.webdriver.remote.webelement.WebElement (session=\"eb5bf9324e5c760114a1c69107033b95\", element=\"C9EF217C031E84B9AD1FE6606F2E6D2C_element_495\")>\n",
      "매진\n",
      "매진 - 15번째 시도 중입니다!\n",
      "<selenium.webdriver.remote.webelement.WebElement (session=\"eb5bf9324e5c760114a1c69107033b95\", element=\"CF7D4C5387CE3034D9900B924B9993F2_element_503\")>\n",
      "매진\n",
      "매진 - 16번째 시도 중입니다!\n",
      "<selenium.webdriver.remote.webelement.WebElement (session=\"eb5bf9324e5c760114a1c69107033b95\", element=\"7C59E355FF6F7AB234541C3E55975732_element_511\")>\n",
      "매진\n",
      "매진 - 17번째 시도 중입니다!\n",
      "<selenium.webdriver.remote.webelement.WebElement (session=\"eb5bf9324e5c760114a1c69107033b95\", element=\"1CE94B690F34E85E9633346E6B42A2B1_element_519\")>\n",
      "매진\n",
      "매진 - 18번째 시도 중입니다!\n",
      "<selenium.webdriver.remote.webelement.WebElement (session=\"eb5bf9324e5c760114a1c69107033b95\", element=\"54BD08506A3E126F47F3413E3C50E0B7_element_527\")>\n",
      "매진\n",
      "매진 - 19번째 시도 중입니다!\n"
     ]
    }
   ],
   "source": [
    "import time\n",
    "\n",
    "for i in range(20):\n",
    "    is_solddout = browser.find_element(By.XPATH, '//*[@id=\"result-form\"]/fieldset/div[6]/table/tbody/tr[1]/td[7]/a')\n",
    "    print(f'{is_solddout.text} - {i}번째 시도 중입니다!')\n",
    "    if is_solddout.text == '매진':\n",
    "        browser.refresh()\n",
    "        time.sleep(1)\n",
    "    else:\n",
    "        browser.find_element(By.XPATH, '//*[@id=\"result-form\"]/fieldset/div[6]/table/tbody/tr[1]/td[7]/a').click()\n"
   ]
  },
  {
   "cell_type": "code",
   "execution_count": null,
   "metadata": {},
   "outputs": [],
   "source": [
    "#TODO: 예매 가능한 상태면 slack에 메시지 보내기"
   ]
  }
 ],
 "metadata": {
  "kernelspec": {
   "display_name": "base",
   "language": "python",
   "name": "python3"
  },
  "language_info": {
   "codemirror_mode": {
    "name": "ipython",
    "version": 3
   },
   "file_extension": ".py",
   "mimetype": "text/x-python",
   "name": "python",
   "nbconvert_exporter": "python",
   "pygments_lexer": "ipython3",
   "version": "3.11.7"
  }
 },
 "nbformat": 4,
 "nbformat_minor": 2
}
