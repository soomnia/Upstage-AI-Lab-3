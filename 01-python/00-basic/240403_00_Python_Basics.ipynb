{
  "cells": [
    {
      "cell_type": "code",
      "execution_count": null,
      "metadata": {
        "id": "odH6gki_t4LQ"
      },
      "outputs": [],
      "source": [
        "## 파이썬 자료형 Data Type\n",
        "# 숫자형 Number\n",
        "# 문자형 Str\n",
        "# 리스트 List\n",
        "# 튜플 Tuple, 딕셔너리 Dictionary, 집합형 Set\n",
        "# 불리언 Boolean"
      ]
    },
    {
      "cell_type": "code",
      "execution_count": null,
      "metadata": {
        "id": "wg81QPeZuypr"
      },
      "outputs": [],
      "source": [
        "## Python\n",
        "# Pydantic 라이브러리를 통해 데이터 타입을 명시하려는 움직임이 있다."
      ]
    },
    {
      "cell_type": "code",
      "execution_count": null,
      "metadata": {
        "id": "FpawuuGCvJyq"
      },
      "outputs": [],
      "source": [
        "# 숫자형 Number\n",
        "a = 1\n",
        "b = 2\n",
        "# 사칙연산이 가능하다.\n",
        "a + b\n",
        "a - b\n",
        "a * b\n",
        "a / b"
      ]
    },
    {
      "cell_type": "code",
      "execution_count": null,
      "metadata": {
        "id": "V-6fZsyevVph"
      },
      "outputs": [],
      "source": [
        "# 실수형 Float\n",
        "a = 1.0\n",
        "b = -3.5\n",
        "\n",
        "# 데이터 분석은 숫자 단위가\n",
        "x = 3.14e3 # 3.14 * 10^(+3)\n",
        "# e: 10의 배수\n",
        "y = 3.14e-3 # 3.14 * 10^(-3)\n",
        "\n"
      ]
    },
    {
      "cell_type": "code",
      "execution_count": null,
      "metadata": {
        "id": "zTlwN5Zlv6BI"
      },
      "outputs": [],
      "source": [
        "x = 3\n",
        "y = 5\n",
        "x ** y # x^y\n",
        "x // y # x를 y로 나눈 몫\n",
        "x % y # x를 y로 나눈 나머지"
      ]
    },
    {
      "cell_type": "code",
      "execution_count": null,
      "metadata": {
        "colab": {
          "base_uri": "https://localhost:8080/",
          "height": 36
        },
        "id": "CFRGtWKUwGbl",
        "outputId": "de42789d-85a5-4a89-df33-c21d63be1e30"
      },
      "outputs": [
        {
          "data": {
            "application/vnd.google.colaboratory.intrinsic+json": {
              "type": "string"
            },
            "text/plain": [
              "'Hello'"
            ]
          },
          "execution_count": 2,
          "metadata": {},
          "output_type": "execute_result"
        }
      ],
      "source": [
        "# 문자형 String\n",
        "# '' || \"\"로 구성\n",
        "# python coding convention\n",
        "\n",
        "\n",
        "# 문자열 슬라이싱 index & slicing\n",
        "a = \"Hello python!\"\n",
        "\n",
        "a[0]\n",
        "\n",
        "# 역순은 음수로 한다.\n",
        "a[-1]\n",
        "\n",
        "# 범위 n:m n <= a < m\n",
        "# 0과 마지막은 생략할 수 있다.\n",
        "a[0:5]\n",
        "a[:]\n",
        "a[:5]\n",
        "a[5:]"
      ]
    },
    {
      "cell_type": "code",
      "execution_count": 7,
      "metadata": {
        "colab": {
          "base_uri": "https://localhost:8080/",
          "height": 216
        },
        "id": "Egje2f5Oxu6K",
        "outputId": "7a1a6108-6e51-4259-cc01-5c8688752897"
      },
      "outputs": [
        {
          "name": "stdout",
          "output_type": "stream",
          "text": [
            "Titanic - James\n"
          ]
        }
      ],
      "source": [
        "# Q. TitanicJames 를 영화 제목title과 감독director으로 슬라이싱 해보세요\n",
        "a = \"TitanicJames\"\n",
        "title = a[0:7]\n",
        "director = a[-5:]\n",
        "# director = a[7:12]\n",
        "\n",
        "print(title, '-', director)"
      ]
    },
    {
      "cell_type": "code",
      "execution_count": 4,
      "metadata": {
        "colab": {
          "base_uri": "https://localhost:8080/"
        },
        "id": "Up28kp79yp_P",
        "outputId": "8304340b-30b1-481a-ed42-58562929617c"
      },
      "outputs": [
        {
          "name": "stdout",
          "output_type": "stream",
          "text": [
            "Name: soom, Age: 30\n",
            "Name: soom, Age: 30\n",
            "Name: soom, Age: 30\n"
          ]
        }
      ],
      "source": [
        "# 문자열 포매팅 formatting\n",
        "# 문자를 출력하는 다양한 방법\n",
        "name = \"soom\"\n",
        "age = 30\n",
        "\n",
        "#print(\"Name: \" + name + \", Age: \" + age)\n",
        "\n",
        "# 문자와 숫자를 +할 수 없기 때문에 형변환을 해야 한다.\n",
        "print(\"Name: \" + name + \", Age: \" + str(age))\n",
        "\n",
        "# format 사용\n",
        "print(\"Name: {}, Age: {}\".format(name, age))\n",
        "\n",
        "# f-string 기법을 많이 쓴다. f를 기입하면 {} 내부가 변수로 인식된다\n",
        "print(f\"Name: {name}, Age: {age}\")\n",
        "\n"
      ]
    },
    {
      "cell_type": "markdown",
      "metadata": {
        "id": "-4DI4RJuypvW"
      },
      "source": []
    },
    {
      "cell_type": "code",
      "execution_count": 1,
      "metadata": {
        "colab": {
          "base_uri": "https://localhost:8080/"
        },
        "id": "NrXmd_Okzk_S",
        "outputId": "9749ff15-3069-4e61-8c1d-0c1a7bc3f66d"
      },
      "outputs": [
        {
          "name": "stdout",
          "output_type": "stream",
          "text": [
            "          파이썬은 쉽다?     \n",
            "파이썬은 쉽다?\n"
          ]
        }
      ],
      "source": [
        "# 문자열 함수\n",
        "# strip\n",
        "# 데이터 중간중간 space가 많아서 이를 가공해야 하는 경우\n",
        "a = \"          파이썬은 쉽다?     \"\n",
        "print(a)\n",
        "#type(a)\n",
        "b = a.strip()\n",
        "print(b)"
      ]
    },
    {
      "cell_type": "code",
      "execution_count": 5,
      "metadata": {
        "colab": {
          "base_uri": "https://localhost:8080/"
        },
        "id": "-EozNm0n0MDh",
        "outputId": "2f77a978-ac17-4b21-a4b1-5d4e8b56a877"
      },
      "outputs": [
        {
          "data": {
            "text/plain": [
              "'안녕^^하세요^^파이썬'"
            ]
          },
          "execution_count": 5,
          "metadata": {},
          "output_type": "execute_result"
        }
      ],
      "source": [
        "# join\n",
        "# 리스트형 응용\n",
        "words = ['안녕', '하세요', '파이썬']\n",
        "type(words)\n",
        "\n",
        "sentence = \"^^\".join(words)\n",
        "\n",
        "sentence"
      ]
    },
    {
      "cell_type": "code",
      "execution_count": 6,
      "metadata": {},
      "outputs": [
        {
          "data": {
            "text/plain": [
              "['안녕', '하세요', '파이썬']"
            ]
          },
          "execution_count": 6,
          "metadata": {},
          "output_type": "execute_result"
        }
      ],
      "source": [
        "# split\n",
        "# '기준'을 기반으로 나눈다.\n",
        "sentence.split(\"^^\")"
      ]
    },
    {
      "cell_type": "code",
      "execution_count": 11,
      "metadata": {
        "colab": {
          "base_uri": "https://localhost:8080/"
        },
        "id": "hv_t5F_w09B_",
        "outputId": "41056c50-2b09-4b59-f786-82d4093e1927"
      },
      "outputs": [
        {
          "name": "stdout",
          "output_type": "stream",
          "text": [
            "['d', 'e']\n",
            "e\n",
            "e\n"
          ]
        }
      ],
      "source": [
        "# List\n",
        "# 왜 리스트가 필요할까?\n",
        "# 변수 관리의 용이성을 위해\n",
        "# 여러 개의 변수를 한 곳에서 관리하기 위함\n",
        "# [] 내부에 변수를 넣어 사용\n",
        "\n",
        "x = ['a', 'b', 'c', 'd', 'e']\n",
        "type(x)\n",
        "# index를 기반으로 특정 변수를 가져올 수 있다.\n",
        "\n",
        "x[0]\n",
        "\n",
        "# 여러 개를 가져오고 싶다면 slicing을 사용\n",
        "x[:3]\n",
        "\n",
        "y = ['a', 'b', 'c', ['d', 'e']]\n",
        "\n",
        "z = y[3]\n",
        "print(z)\n",
        "print(z[1])\n",
        "\n",
        "print(y[3][1])"
      ]
    },
    {
      "cell_type": "code",
      "execution_count": 12,
      "metadata": {
        "colab": {
          "base_uri": "https://localhost:8080/",
          "height": 72
        },
        "id": "Iwlljj9u6B1q",
        "outputId": "724208bf-7e3d-4a89-f307-bea340cf8911"
      },
      "outputs": [
        {
          "name": "stdout",
          "output_type": "stream",
          "text": [
            "['사과', '바나나', '체리']\n",
            "['사과', '바나나', '체리', '오렌지']\n",
            "['바나나', '체리', '오렌지']\n"
          ]
        }
      ],
      "source": [
        "fruits = ['사과', '바나나', '체리']\n",
        "print(fruits)\n",
        "\n",
        "# 리스트의 끝에 변수 추가\n",
        "fruits.append('오렌지')\n",
        "print(fruits)\n",
        "\n",
        "# 제거하려는 변수의 index 입력\n",
        "fruits.pop(0)\n",
        "print(fruits)"
      ]
    },
    {
      "cell_type": "code",
      "execution_count": null,
      "metadata": {
        "colab": {
          "base_uri": "https://localhost:8080/"
        },
        "id": "i1oZOs6u6mO8",
        "outputId": "956bb51f-84cb-466d-c293-ff291f870a67"
      },
      "outputs": [
        {
          "name": "stdout",
          "output_type": "stream",
          "text": [
            "[6, 10, 30, 50, 100]\n"
          ]
        }
      ],
      "source": [
        "nums = [10, 6, 100, 50, 30]\n",
        "\n",
        "# 정렬\n",
        "# pandas.sort_values()\n",
        "nums.sort()\n",
        "print(nums)\n",
        "\n",
        "## 참고: 반환하는 것이 없는 함수는 결과로 None이 찍힘\n"
      ]
    },
    {
      "cell_type": "code",
      "execution_count": null,
      "metadata": {
        "colab": {
          "base_uri": "https://localhost:8080/"
        },
        "id": "DtuRyFec7OgD",
        "outputId": "8a0714c6-987e-44e7-cb48-8b53c148a631"
      },
      "outputs": [
        {
          "data": {
            "text/plain": [
              "(1, 2, 3, 4, 5, 10)"
            ]
          },
          "execution_count": 27,
          "metadata": {},
          "output_type": "execute_result"
        }
      ],
      "source": [
        "# 튜플\n",
        "# () 내에 변수를 넣어 사용\n",
        "# 튜플은 한 번 생성되면 값 변경이 불가능하다. ==> 요소 추가, 제거, 수정이 불가능 ***\n",
        "\n",
        "a = (1,2,3,4,5)\n",
        "\n",
        "a[0]\n",
        "\n",
        "## TypeError: 'tuple' object does not support item assignment\n",
        "#a[0] = 10\n",
        "\n",
        "## AttributeError: 'tuple' object has no attribute 'append'\n",
        "#a.append(10)\n",
        "\n",
        "# 그래서 보통 새로운 튜플을 만들어 튜플을 변형한다.\n",
        "new_a = a + (10, )\n",
        "new_a"
      ]
    },
    {
      "cell_type": "code",
      "execution_count": 8,
      "metadata": {
        "colab": {
          "base_uri": "https://localhost:8080/"
        },
        "id": "Oj6A8cvT8Fpz",
        "outputId": "3e043350-2ea4-4db8-babc-5c051e00ff35"
      },
      "outputs": [
        {
          "name": "stdout",
          "output_type": "stream",
          "text": [
            "Seoul\n",
            "[29, 30]\n"
          ]
        },
        {
          "data": {
            "text/plain": [
              "0"
            ]
          },
          "execution_count": 8,
          "metadata": {},
          "output_type": "execute_result"
        }
      ],
      "source": [
        "# Dictionary\n",
        "# 파이썬에서는 JSON이 없고 Dict 라고 부름\n",
        "# {} 내부에 key:value 쌍을 넣는다.\n",
        "# value로는 다양한 타입의 값이 들어갈 수 있다. Dict 또한 Dict의 value로 사용 가능.\n",
        "# API 라고 불리는 형태와 동일하다. FastAPI 를 나중에 다룰 것.\n",
        "x = {\"name\":\"soom\", \"age\":[29, 30], \"city\": \"Seoul\"}\n",
        "type(x)\n",
        "\n",
        "# Dictionary는 index로 key를 사용한다.\n",
        "print(x['city'])\n",
        "print(x['age'])\n",
        "# 하지만 위는 오류에 취약한 코드이다.\n",
        "\n",
        "#print(x['ages'])\n",
        "## KeyError: 'ages'\n",
        "# 직접 입력하다 실수로 없는 key를 사용하게 되면 오류가 발생하기 때문에...\n",
        "\n",
        "# 함수로 get을 많이 사용\n",
        "x.get('ages', 0)\n",
        "# 없는 key라고 하더라도, 입력해둔 기본 값인 0을 반환한다.\n",
        "# 즉, 오류 발생 방지가 가능한 코드이다.\n",
        "\n",
        "# 그 외에 try, except를 활용해 예외 처리가 가능하다."
      ]
    },
    {
      "cell_type": "code",
      "execution_count": null,
      "metadata": {
        "colab": {
          "base_uri": "https://localhost:8080/"
        },
        "id": "Lm-PjCzZ9d_U",
        "outputId": "0b386905-3278-48ac-dd6a-1a5b9a471254"
      },
      "outputs": [
        {
          "name": "stdout",
          "output_type": "stream",
          "text": [
            "name soom\n",
            "age [29, 30]\n",
            "city Seoul\n",
            "name soom\n",
            "age [29, 30]\n",
            "city Seoul\n"
          ]
        },
        {
          "data": {
            "text/plain": [
              "dict_items([('name', 'soom'), ('age', [29, 30]), ('city', 'Seoul')])"
            ]
          },
          "execution_count": 32,
          "metadata": {},
          "output_type": "execute_result"
        }
      ],
      "source": [
        "# 반복ㄱ문에서 많이 사용\n",
        "for key in x.keys():\n",
        "  print(key, x[key])\n",
        "# ----------------------\n",
        "for key, value in x.items():\n",
        "  print(key, value)\n",
        "# ----------------------\n",
        "x.items()"
      ]
    },
    {
      "cell_type": "code",
      "execution_count": null,
      "metadata": {
        "colab": {
          "base_uri": "https://localhost:8080/"
        },
        "id": "imHasLE1-E9G",
        "outputId": "5c4c500f-3350-4656-9dd4-17dbbfac519d"
      },
      "outputs": [
        {
          "data": {
            "text/plain": [
              "{'name': 'ssoo', 'age': [29, 30], 'city': 'Seoul'}"
            ]
          },
          "execution_count": 33,
          "metadata": {},
          "output_type": "execute_result"
        }
      ],
      "source": [
        "# update\n",
        "new_name = {'name':'ssoo'}\n",
        "x.update(new_name)\n",
        "x"
      ]
    },
    {
      "cell_type": "code",
      "execution_count": null,
      "metadata": {
        "id": "pe0WDyWd-QQ6"
      },
      "outputs": [],
      "source": [
        "# key 제거\n",
        "# del을 더 많이 쓴다고 함\n",
        "del x['city']\n",
        "# x.pop('city')"
      ]
    },
    {
      "cell_type": "code",
      "execution_count": null,
      "metadata": {
        "colab": {
          "base_uri": "https://localhost:8080/"
        },
        "id": "g0-IFI-KC1uW",
        "outputId": "64e583f6-7dac-453a-97cd-d0bcbf603736"
      },
      "outputs": [
        {
          "data": {
            "text/plain": [
              "{1, 2, 3, 4, 5, 6, 7, 8}"
            ]
          },
          "execution_count": 38,
          "metadata": {},
          "output_type": "execute_result"
        }
      ],
      "source": [
        "# 집합형 Set\n",
        "# 순서가 없다.\n",
        "# 중복을 허용하지 않음. unique value\n",
        "x = set([1,2,3,4,5,6,6,6,6,6])\n",
        "# 중복된 값을 넣어도 중복된 요소는 제거한다.\n",
        "x\n",
        "\n",
        "y = set([1,2,3,4,5,3,4,6,7,6,4,8,2,3,1])\n",
        "y"
      ]
    },
    {
      "cell_type": "code",
      "execution_count": null,
      "metadata": {
        "colab": {
          "base_uri": "https://localhost:8080/"
        },
        "id": "u6MGhjRPDrhT",
        "outputId": "c7156fe9-9115-48ed-9af9-5505b557e57a"
      },
      "outputs": [
        {
          "data": {
            "text/plain": [
              "True"
            ]
          },
          "execution_count": 39,
          "metadata": {},
          "output_type": "execute_result"
        }
      ],
      "source": [
        "# Bool\n",
        "# True || False\n",
        "x = True\n",
        "type(x)\n",
        "\n",
        "1 < 100"
      ]
    },
    {
      "cell_type": "code",
      "execution_count": null,
      "metadata": {
        "colab": {
          "base_uri": "https://localhost:8080/"
        },
        "id": "UMWUYPAVXp48",
        "outputId": "862ff544-a3a2-409d-cb65-688d0f30ce6f"
      },
      "outputs": [
        {
          "name": "stdout",
          "output_type": "stream",
          "text": [
            "숫자가 10보다 큽니다.\n"
          ]
        }
      ],
      "source": [
        "## 제어문\n",
        "# 조건문 if\n",
        "# 반복문 for, while\n",
        "\n",
        "\n",
        "# if 조건문\n",
        "num = 100\n",
        "if num < 5:\n",
        "  print(\"숫자가 5보다 작습니다.\")\n",
        "elif num < 10:\n",
        "  print(\"숫자가 10보다 작습니다.\")\n",
        "else:\n",
        "  print(\"숫자가 10보다 큽니다.\")\n"
      ]
    },
    {
      "cell_type": "code",
      "execution_count": null,
      "metadata": {
        "colab": {
          "base_uri": "https://localhost:8080/"
        },
        "id": "wHmrJFszYeTL",
        "outputId": "cb20a261-52a9-4b4f-eab2-7325b73e135e"
      },
      "outputs": [
        {
          "name": "stdout",
          "output_type": "stream",
          "text": [
            "현재 보유 금액은?65000\n",
            "기차를 타세요\n"
          ]
        }
      ],
      "source": [
        "# 서울에서 부산을 간다고 가정 하에 나의 주머니에 있는 돈에 따른 조건문\n",
        "# 입력값을 받는다 ==> 입력값은 str이다. 그래서 int()를 통해 형변환\n",
        "money = int(input(\"현재 보유 금액은?\"))\n",
        "\n",
        "if money >= 70000:\n",
        "  print(\"비행기를 타세요\")\n",
        "elif money >= 50000:\n",
        "  print(\"기차를 타세요\")\n",
        "elif money >= 30000:\n",
        "  print(\"버스를 타세요\")\n",
        "else:\n",
        "  print(\"걷자...\")"
      ]
    },
    {
      "cell_type": "code",
      "execution_count": null,
      "metadata": {
        "colab": {
          "base_uri": "https://localhost:8080/"
        },
        "id": "T346JfrMa7Gj",
        "outputId": "97a9385b-2ba7-4b6c-f243-71f7174546ad"
      },
      "outputs": [
        {
          "name": "stdout",
          "output_type": "stream",
          "text": [
            "현재 보유 금액은?10000\n",
            "비행기를 타세요\n"
          ]
        }
      ],
      "source": [
        "# 현금은 없지만 카드는 있다네\n",
        "money = int(input(\"현재 보유 금액은?\"))\n",
        "card = True\n",
        "# and &\n",
        "# or |\n",
        "# (python 3.9 ^)\n",
        "\n",
        "if (money >= 70000) | (card == True):\n",
        "  print(\"비행기를 타세요\")\n",
        "elif money >= 50000:\n",
        "  print(\"기차를 타세요\")\n",
        "elif money >= 30000:\n",
        "  print(\"버스를 타세요\")\n",
        "else:\n",
        "  print(\"걷자...\")"
      ]
    },
    {
      "cell_type": "code",
      "execution_count": null,
      "metadata": {
        "colab": {
          "base_uri": "https://localhost:8080/"
        },
        "id": "YZShWRZjbFja",
        "outputId": "d513fbd7-ff26-4778-df81-4767fd04c1e8"
      },
      "outputs": [
        {
          "data": {
            "text/plain": [
              "True"
            ]
          },
          "execution_count": 6,
          "metadata": {},
          "output_type": "execute_result"
        }
      ],
      "source": [
        "# 비교 연산자\n",
        "a = 1\n",
        "b = 3\n",
        "a == b\n",
        "a != b\n",
        "a > b\n",
        "a <= b"
      ]
    },
    {
      "cell_type": "code",
      "execution_count": null,
      "metadata": {
        "id": "nGxjbtQEbX6g"
      },
      "outputs": [],
      "source": [
        "## 파이썬 코드 10줄로 해결할 부분을 sql문 한 줄로 해결할 수도 있다."
      ]
    },
    {
      "cell_type": "code",
      "execution_count": 21,
      "metadata": {
        "colab": {
          "base_uri": "https://localhost:8080/"
        },
        "id": "wj9nOxbQbeEr",
        "outputId": "677ffca1-7bf9-42b3-e675-96404eb12fc2"
      },
      "outputs": [
        {
          "name": "stdout",
          "output_type": "stream",
          "text": [
            "0\n",
            "1\n",
            "2\n",
            "3\n",
            "4\n",
            "5\n",
            "6\n",
            "7\n",
            "8\n",
            "9\n",
            "2\n",
            "4\n",
            "6\n",
            "8\n",
            "10\n"
          ]
        }
      ],
      "source": [
        "# for 반복문\n",
        "# range(10): 0 ~ 9\n",
        "for j in range(10):\n",
        "  print(j)\n",
        "\n",
        "# 범위를 지정할 수도 있다.\n",
        "# (시작, 끝, step)\n",
        "for i in range (2, 11, 2):\n",
        "  print(i)"
      ]
    },
    {
      "cell_type": "code",
      "execution_count": 24,
      "metadata": {
        "colab": {
          "base_uri": "https://localhost:8080/"
        },
        "id": "QlO0hci8cdJ_",
        "outputId": "a8d1b2fb-d7a6-4983-d5c1-4b078a42f9a9"
      },
      "outputs": [
        {
          "name": "stdout",
          "output_type": "stream",
          "text": [
            "seoul\n",
            "daejeon\n",
            "daegu\n",
            "busan\n"
          ]
        }
      ],
      "source": [
        "# list를 응용할 수도 있다.\n",
        "cities = ['seoul', 'daejeon', 'daegu', 'busan']\n",
        "\n",
        "# 변수 i는 직관성이 떨어지므로 리스트의 복수형 변수의 단수형의 변수명을 지어 사용하자\n",
        "#for i in cities:\n",
        "for city in cities:\n",
        "  print(city)\n"
      ]
    },
    {
      "cell_type": "code",
      "execution_count": 25,
      "metadata": {},
      "outputs": [
        {
          "name": "stdout",
          "output_type": "stream",
          "text": [
            "해운대를 가자\n"
          ]
        }
      ],
      "source": [
        "for city in cities:\n",
        "  if city == 'busan':\n",
        "    print(\"해운대를 가자\")"
      ]
    },
    {
      "cell_type": "code",
      "execution_count": 26,
      "metadata": {},
      "outputs": [
        {
          "name": "stdout",
          "output_type": "stream",
          "text": [
            "0\n",
            "1\n",
            "2\n",
            "3\n",
            "done!\n"
          ]
        }
      ],
      "source": [
        "for i in range(len(cities)):\n",
        "  print(i)\n",
        "else:\n",
        "  print(\"done!\")"
      ]
    },
    {
      "cell_type": "code",
      "execution_count": 27,
      "metadata": {},
      "outputs": [
        {
          "name": "stdout",
          "output_type": "stream",
          "text": [
            "p\n",
            "y\n",
            "t\n",
            "h\n",
            "o\n",
            "n\n"
          ]
        }
      ],
      "source": [
        "for i in \"python\":\n",
        "  print(i)"
      ]
    },
    {
      "cell_type": "code",
      "execution_count": null,
      "metadata": {
        "colab": {
          "base_uri": "https://localhost:8080/"
        },
        "id": "R5hKoUSxdYS-",
        "outputId": "ceb2aa3a-1a6c-4ff9-fd4f-99882ef7d1fe"
      },
      "outputs": [
        {
          "name": "stdout",
          "output_type": "stream",
          "text": [
            "1\n",
            "2\n",
            "3\n",
            "4\n",
            "5\n"
          ]
        }
      ],
      "source": [
        "# while 반복문\n",
        "# 조건이 거짓이 될 때 정지한다.\n",
        "a = 0\n",
        "while a < 5:\n",
        "  a+=1\n",
        "  print(a)\n",
        "  #print(a) #해당 조건은 항상 True이므로 무한히 반복하게 된다.\n",
        "\n",
        "# 시간복잡도를 따졌을 때 for문이 더 효율적이고, 무한히 반복해야 할 조건일 경우엔 while문을 쓰자"
      ]
    },
    {
      "cell_type": "code",
      "execution_count": null,
      "metadata": {
        "colab": {
          "base_uri": "https://localhost:8080/"
        },
        "id": "EZa9H1jjd_92",
        "outputId": "acd6c265-e8d7-4b3a-a4b0-755cbb59126b"
      },
      "outputs": [
        {
          "name": "stdout",
          "output_type": "stream",
          "text": [
            "15\n",
            "15\n",
            "15\n"
          ]
        }
      ],
      "source": [
        "# 1부터 5까지 더하는 프로그램\n",
        "\n",
        "# for\n",
        "sum = 0\n",
        "for i in range(5):\n",
        "  i += 1\n",
        "  sum += i\n",
        "print(sum)\n",
        "\n",
        "sum = 0\n",
        "for i in range(1,6):\n",
        "  sum += i\n",
        "print(sum)\n",
        "\n",
        "# while\n",
        "sum = 0\n",
        "i = 0\n",
        "while i < 5:\n",
        "  i += 1\n",
        "  sum += i\n",
        "print(sum)"
      ]
    },
    {
      "cell_type": "code",
      "execution_count": null,
      "metadata": {
        "colab": {
          "base_uri": "https://localhost:8080/"
        },
        "id": "NvW6U3czjK8f",
        "outputId": "6f1e9fd5-f79c-48d7-a82f-44a22971e26c"
      },
      "outputs": [
        {
          "name": "stdout",
          "output_type": "stream",
          "text": [
            "0\n",
            "1\n",
            "2\n",
            "조건문 i:  3\n",
            "3\n",
            "조건문 i:  4\n",
            "4\n",
            "조건문 i:  5\n",
            "5\n",
            "6\n",
            "7\n",
            "8\n",
            "9\n",
            "0\n",
            "1\n",
            "2\n",
            "조건문 i:  3\n",
            "조건문 i:  4\n",
            "조건문 i:  5\n",
            "6\n",
            "7\n",
            "8\n",
            "9\n"
          ]
        }
      ],
      "source": [
        "# 제어문\n",
        "# continue, break\n",
        "\n",
        "for i in range(10):\n",
        "  if 3 <= i <= 5:\n",
        "    print(\"조건문 i: \", i)\n",
        "  print(i)\n",
        "\n",
        "for i in range(10):\n",
        "  if 3 <= i <= 5:\n",
        "    print(\"조건문 i: \", i)\n",
        "    #break # 반목문 종료\n",
        "    continue # 그 이후 문장은 제외하고 다시 if 조건문으로 되돌아감\n",
        "  print(i)"
      ]
    },
    {
      "cell_type": "code",
      "execution_count": null,
      "metadata": {
        "colab": {
          "base_uri": "https://localhost:8080/"
        },
        "id": "OLeb7Vh2j_U6",
        "outputId": "9ec1b187-668e-454c-a5fb-4dcb748ededa"
      },
      "outputs": [
        {
          "name": "stdout",
          "output_type": "stream",
          "text": [
            "2\n",
            "4\n",
            "6\n",
            "8\n",
            "10\n"
          ]
        }
      ],
      "source": [
        "# 문제 1. 1부터 10까지의 정수 중에서 짝수만 출력하는 코드를 작성하세요.\n",
        "\n",
        "for i in range(1,11):\n",
        "  if i % 2 == 0:\n",
        "    print(i)"
      ]
    },
    {
      "cell_type": "code",
      "execution_count": null,
      "metadata": {
        "colab": {
          "base_uri": "https://localhost:8080/"
        },
        "id": "p0M1zuFGkcJz",
        "outputId": "79a4d8b0-3360-474f-9d06-e78811a39cc4"
      },
      "outputs": [
        {
          "name": "stdout",
          "output_type": "stream",
          "text": [
            "어떤 정수를 입력하세요!6\n",
            "음수입니다.\n"
          ]
        }
      ],
      "source": [
        "# 문제 2. 사용자로부터 입력받은 숫자가 양수인지 음수인지 출력하는 코드를 작성하세요.\n",
        "\n",
        "user_input = int(input(\"어떤 정수를 입력하세요!\"))\n",
        "\n",
        "if user_input < 0:\n",
        "  print(\"음수입니다.\")\n",
        "elif user_input == 0:\n",
        "  print(\"이건 0\")\n",
        "else:\n",
        "  print(\"음수입니다.\")\n",
        "\n",
        "# user_input = 0"
      ]
    },
    {
      "cell_type": "code",
      "execution_count": null,
      "metadata": {
        "colab": {
          "base_uri": "https://localhost:8080/"
        },
        "id": "nypTaBS0kd6a",
        "outputId": "436fd985-ef09-4993-823f-c9f1524174a7"
      },
      "outputs": [
        {
          "name": "stdout",
          "output_type": "stream",
          "text": [
            "315\n"
          ]
        }
      ],
      "source": [
        "# 문제 3. 1부터 100까지의 정수 중에서 3의 배수이면서 5의 배수인 정수의 합을 구하는 코드를 작성하세요.\n",
        "sum = 0\n",
        "for i in range(1, 101):\n",
        "  if (i % 3 == 0) & (i % 5 == 0):\n",
        "    sum += i\n",
        "print(sum)"
      ]
    },
    {
      "cell_type": "code",
      "execution_count": 12,
      "metadata": {
        "colab": {
          "base_uri": "https://localhost:8080/",
          "height": 382
        },
        "id": "jWtIIx8ekdzx",
        "outputId": "303f71c2-4cdd-4b69-842a-3a63f06eeae2"
      },
      "outputs": [
        {
          "data": {
            "text/plain": [
              "(1, 10)"
            ]
          },
          "execution_count": 12,
          "metadata": {},
          "output_type": "execute_result"
        }
      ],
      "source": [
        "# 문제 4. 사용자로부터 n개의 정수를 입력받아, 이 중에서 가장 큰 값과 가장 작은 값을 구하는 코드를 작성하세요.\n",
        "user_input_list = []\n",
        "user_count = int(input(\"몇 개의 숫자를 입력하시겠어요?\"))\n",
        "for i in range(user_count):\n",
        "  user_input = int(input(f\"{i+1}번째 정수를 입력하세요: \"))\n",
        "  user_input_list.append(user_input)\n",
        "\n",
        "max_num = user_input_list[0]\n",
        "min_num = user_input_list[0]\n",
        "\n",
        "for i in user_input_list:\n",
        "  if i > max_num:\n",
        "    max_num = i\n",
        "\n",
        "  if i < min_num:\n",
        "    min_num = i\n",
        "\n",
        "min_num, max_num"
      ]
    },
    {
      "cell_type": "code",
      "execution_count": null,
      "metadata": {},
      "outputs": [],
      "source": [
        "##TODO: sort 사용하기 > sort한 뒤, [0]이 min, [n]이 max"
      ]
    },
    {
      "cell_type": "code",
      "execution_count": 13,
      "metadata": {
        "colab": {
          "base_uri": "https://localhost:8080/"
        },
        "id": "8t1Ysg80kg-x",
        "outputId": "e83084ea-1004-4700-dfe3-17b318b0389b"
      },
      "outputs": [
        {
          "name": "stdout",
          "output_type": "stream",
          "text": [
            "----- 3단입니다! -----\n",
            "3 * 1 == 3\n",
            "3 * 2 == 6\n",
            "3 * 3 == 9\n",
            "3 * 4 == 12\n",
            "3 * 5 == 15\n",
            "3 * 6 == 18\n",
            "3 * 7 == 21\n",
            "3 * 8 == 24\n",
            "3 * 9 == 27\n"
          ]
        }
      ],
      "source": [
        "# 문제 5. 사용자로부터 입력받은 숫자의 구구단을 출력하는 코드를 작성하세요.\n",
        "user_input = int(input(\"몇 단을 출력할까요?\"))\n",
        "\n",
        "for x in range(1,10):\n",
        "  if x == user_input:\n",
        "    print(\"-\"*5, f'{x}단입니다!', \"-\"*5)\n",
        "    for y in range(1,10):\n",
        "      print(f\"{x} * {y} == {x*y}\")"
      ]
    },
    {
      "cell_type": "code",
      "execution_count": 17,
      "metadata": {
        "colab": {
          "base_uri": "https://localhost:8080/"
        },
        "id": "AvbrOLitrymr",
        "outputId": "b11a3c77-2156-44ab-a80c-b942b599f117"
      },
      "outputs": [
        {
          "name": "stdout",
          "output_type": "stream",
          "text": [
            "저는... 30살 soom입니다.\n"
          ]
        },
        {
          "data": {
            "text/plain": [
              "(30, 'soom')"
            ]
          },
          "execution_count": 17,
          "metadata": {},
          "output_type": "execute_result"
        }
      ],
      "source": [
        "## 함수, 클래스\n",
        "\n",
        "# 함수 def - define, definition\n",
        "# self - class 안에서 정의된 함수에서 쓰임\n",
        "def my_name(age, name): # 매개변수 - input\n",
        "  print(f\"저는... {age}살 {name}입니다.\")\n",
        "  # output을 만드려면, 반환return을 한다.\n",
        "  return age, name\n",
        "\n",
        "# my_name(name=\"soom\")\n",
        "## 매개변수 하나만 입력하면 오류\n",
        "## TypeError: my_name() missing 1 required positional argument: 'age'\"\n",
        "\n",
        "output = my_name(30, \"soom\")\n",
        "output"
      ]
    },
    {
      "cell_type": "code",
      "execution_count": null,
      "metadata": {
        "colab": {
          "base_uri": "https://localhost:8080/"
        },
        "id": "5l3b2daRxRS5",
        "outputId": "95baf702-1753-4333-8407-2c67fba1b896"
      },
      "outputs": [
        {
          "data": {
            "text/plain": [
              "5"
            ]
          },
          "execution_count": 12,
          "metadata": {},
          "output_type": "execute_result"
        }
      ],
      "source": [
        "# 파이썬 내장함수 built-in functions\n",
        "a = 'python'\n",
        "b = a.upper()\n",
        "a, b\n",
        "\n",
        "### 원래는 비동기가 지원되지 않던 python. 현재는 비동기async를 지원하려는 움직임이 보인다."
      ]
    },
    {
      "cell_type": "code",
      "execution_count": null,
      "metadata": {
        "colab": {
          "base_uri": "https://localhost:8080/"
        },
        "id": "lczWW6f1ybU-",
        "outputId": "0ef1bd38-ba5c-43b9-9c8a-f75685148f3c"
      },
      "outputs": [
        {
          "name": "stdout",
          "output_type": "stream",
          "text": [
            "<class 'sys.version_info'>\n",
            "sys.version_info(major=3, minor=10, micro=12, releaselevel='final', serial=0)\n"
          ]
        },
        {
          "data": {
            "text/plain": [
              "time.struct_time(tm_year=2024, tm_mon=4, tm_mday=3, tm_hour=7, tm_min=14, tm_sec=22, tm_wday=2, tm_yday=94, tm_isdst=0)"
            ]
          },
          "execution_count": 18,
          "metadata": {},
          "output_type": "execute_result"
        }
      ],
      "source": [
        "# 파이썬 외장함수 external functions: import를 통해 모듈을 불러와 사용\n",
        "import random\n",
        "random.randint(1, 10) # 1~10 사이의 난수 반환\n",
        "\n",
        "c = [1,1,2,3,4,5,6]\n",
        "random.choice(c)\n",
        "\n",
        "import sys\n",
        "sys.version_info\n",
        "py_version = sys.version_info\n",
        "print(type(py_version))\n",
        "print(py_version)\n",
        "\n",
        "#TODO: str이므로 split 해서 사용해야겠지요!\n",
        "#if sys.version_info < 3.9:\n",
        "  #print(\"파이썬 버전을 업데이트 하세요.\")\n",
        "\n",
        "import os\n",
        "os.getcwd() # current working directory\n",
        "# os.mkdir(\"test_dir\")\n",
        "\n",
        "import time\n",
        "time.time() #UTC 현재 시각을 초 단위로 반환\n",
        "time.localtime(time.time()) #서버 시간을 기준으로 UTC 시간을 변환하여 반환"
      ]
    },
    {
      "cell_type": "code",
      "execution_count": null,
      "metadata": {
        "colab": {
          "base_uri": "https://localhost:8080/"
        },
        "id": "YNX6wgb30TTc",
        "outputId": "dcd98582-86e2-412c-b60f-42ababe5474e"
      },
      "outputs": [
        {
          "name": "stdout",
          "output_type": "stream",
          "text": [
            "붕어빵의 이름은 팥붕, 재료는 팥이고 가격은 1000이다.\n",
            "붕어빵의 이름은 슈붕, 재료는 슈크림이고 가격은 1500이다.\n"
          ]
        }
      ],
      "source": [
        "# 클래스\n",
        "# 클래스는 Camel Case를 사용하여 명명한다.\n",
        "## 상속 받는 경우 -> Bread를 상속받는 FishBread\n",
        "## class FishBread(Bread)\n",
        "class FishBread:\n",
        "  # 클래스에는 초기화 함수가 필요하다 / 생성자 - 필수는 아닌데 권고\n",
        "  # 클래스가 호출됐을 때 가장 먼저 실행되는 함수/method\n",
        "  def __init__(self, name, ingredient, price):\n",
        "    #TODO: 클래스를 통해 전역변수로 사용할 수 있다? self 공부하기\n",
        "    # self 라는 매개변수를 통해 그 외 매개변수들도 쓸 수 있게 된다.\n",
        "    self.name = name\n",
        "    self.ingredient = ingredient\n",
        "    self.price = price\n",
        "\n",
        "  def bread(self):\n",
        "    print(f\"붕어빵의 이름은 {self.name}, 재료는 {self.ingredient}이고 가격은 {self.price}이다.\")\n",
        "\n",
        "# 인스턴스 - 매개변수를 통해 만들어진 객체 - 클래스 내부의 변수와 함수를 사용할 수 있는 상태\n",
        "redbean_bread = FishBread(\"팥붕\", \"팥\", 1000)\n",
        "redbean_bread, redbean_bread.name, redbean_bread.name, redbean_bread.price\n",
        "redbean_bread.bread()\n",
        "\n",
        "cream_bread = FishBread(\"슈붕\", \"슈크림\", 1500)\n",
        "cream_bread, cream_bread.name, cream_bread.name, cream_bread.price\n",
        "cream_bread.bread()"
      ]
    },
    {
      "cell_type": "code",
      "execution_count": null,
      "metadata": {
        "id": "auBNkWOY2hRj"
      },
      "outputs": [],
      "source": [
        "# 함수 -> 클래스 -> 모듈(=라이브러리) -> 패키지(=라이브러리)\n",
        "# 모듈 단위의 라이브러리일 수도 있고, 패키지 단위의 라이브러리일 수 있다. 최소 모듈 단위부터 라이브러리가 될 수 있다."
      ]
    }
  ],
  "metadata": {
    "colab": {
      "provenance": []
    },
    "kernelspec": {
      "display_name": "Python 3",
      "name": "python3"
    },
    "language_info": {
      "codemirror_mode": {
        "name": "ipython",
        "version": 3
      },
      "file_extension": ".py",
      "mimetype": "text/x-python",
      "name": "python",
      "nbconvert_exporter": "python",
      "pygments_lexer": "ipython3",
      "version": "3.11.7"
    }
  },
  "nbformat": 4,
  "nbformat_minor": 0
}
